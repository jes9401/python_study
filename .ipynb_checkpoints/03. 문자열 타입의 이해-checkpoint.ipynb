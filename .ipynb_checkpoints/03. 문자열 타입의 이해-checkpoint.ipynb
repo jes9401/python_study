{
 "cells": [
  {
   "cell_type": "markdown",
   "metadata": {},
   "source": [
    "### 학습목표\n",
    "1. 문자열 이해하기"
   ]
  },
  {
   "cell_type": "markdown",
   "metadata": {},
   "source": [
    "### **string (문자열)**\n",
    " - 문자 여러개가 순서대로 나열 된 것\n",
    " - 문자열은 '(작은따옴표) 혹은 \"(큰따옴표) 사이에 문자를 넣어서 생성\n",
    " - **''' '''** 사용하여 표현 가능\n",
    " \n",
    "     - '', \"\" -> 한줄 문자열 표현\n",
    "     - ''' ''' -> 어려줄에 걸쳐 문자열 표현 가능"
   ]
  },
  {
   "cell_type": "code",
   "execution_count": 1,
   "metadata": {},
   "outputs": [
    {
     "data": {
      "text/plain": [
       "'정의석'"
      ]
     },
     "execution_count": 1,
     "metadata": {},
     "output_type": "execute_result"
    }
   ],
   "source": [
    "name='정의석'\n",
    "name"
   ]
  },
  {
   "cell_type": "code",
   "execution_count": 3,
   "metadata": {},
   "outputs": [
    {
     "name": "stdout",
     "output_type": "stream",
     "text": [
      "hello world \"haha\"\n"
     ]
    }
   ],
   "source": [
    "a='hello world \"haha\"'\n",
    "print(a)"
   ]
  },
  {
   "cell_type": "code",
   "execution_count": 9,
   "metadata": {},
   "outputs": [
    {
     "name": "stdout",
     "output_type": "stream",
     "text": [
      "\n",
      "abc\n",
      "    ebug fg\n",
      "    \n",
      "    gh   ha\n",
      "    \n",
      "\n"
     ]
    }
   ],
   "source": [
    "s= '''\n",
    "abc\n",
    "    ebug fg\n",
    "    \n",
    "    gh   ha\n",
    "    \n",
    "'''\n",
    "print(s)"
   ]
  },
  {
   "cell_type": "markdown",
   "metadata": {},
   "source": [
    "#### **escape string** \n",
    "* 문자열내의 일부 문자의 의미를 달리하여 `특정한 효과`를 주는 것\n",
    "* `\\n` : new line `\\t` : tab 등\n",
    "\n"
   ]
  },
  {
   "cell_type": "code",
   "execution_count": 11,
   "metadata": {},
   "outputs": [
    {
     "name": "stdout",
     "output_type": "stream",
     "text": [
      "hi\n",
      "hi\n",
      "hi\thi\t\thi\n"
     ]
    }
   ],
   "source": [
    "a= \"hi\\nhi\"\n",
    "print(a)\n",
    "b=\"hi\\thi\\t\\thi\"\n",
    "print(b)"
   ]
  },
  {
   "cell_type": "markdown",
   "metadata": {},
   "source": [
    "#### **indexing & slicing string **\n",
    "  - 문자열의 각 문자는 순서가 있는데, 이 순서를 **인덱스** 라고 한다.\n",
    "  - 첫번째 시작문자의 순서는 0으로 시작"
   ]
  },
  {
   "cell_type": "markdown",
   "metadata": {},
   "source": []
  },
  {
   "cell_type": "code",
   "execution_count": 13,
   "metadata": {},
   "outputs": [
    {
     "name": "stdout",
     "output_type": "stream",
     "text": [
      "안\n",
      "녕\n",
      "하\n",
      "세\n",
      "요\n"
     ]
    }
   ],
   "source": [
    "a=\"안녕하세요\"\n",
    "for i in range(len(a)):\n",
    "    print(a[i])"
   ]
  },
  {
   "cell_type": "markdown",
   "metadata": {},
   "source": [
    "#### **-1 인덱스**\n",
    "  - python의 경우 음수 인덱스를 지원한다.\n",
    "  - -1이 가장 마지막 인덱스를, -2가 마지막에서 두번째 인덱스를 의미한다."
   ]
  },
  {
   "cell_type": "code",
   "execution_count": 16,
   "metadata": {},
   "outputs": [
    {
     "name": "stdout",
     "output_type": "stream",
     "text": [
      "요\n",
      "세\n"
     ]
    }
   ],
   "source": [
    "a=\"안녕하세요\"\n",
    "print(a[-1])\n",
    "print(a[-2])"
   ]
  },
  {
   "cell_type": "markdown",
   "metadata": {},
   "source": [
    "#### **인덱스의 범위**\n",
    "  - 인덱스는 [0, 문자열의 길이) 의 범위만 유효하다.\n",
    "  - 음수 인덱스를 사용할 경우, [-문자열의 길이, -1]\n",
    "  - 범위를 넘어갈 경우 에러 발생한다."
   ]
  },
  {
   "cell_type": "code",
   "execution_count": 29,
   "metadata": {},
   "outputs": [
    {
     "name": "stdout",
     "output_type": "stream",
     "text": [
      "안\n",
      "니\n"
     ]
    }
   ],
   "source": [
    "a=\"안녕하십니까\"\n",
    "print(a[-6])\n",
    "print(a[-2])"
   ]
  },
  {
   "cell_type": "markdown",
   "metadata": {},
   "source": [
    "#### **문자열 slicing**\n",
    "  - slicing은 부분 문자열을 추출한다.\n",
    "  - [시작:끝]와 같이 명시하여 (시작, 끝)에 해당하는 부분 문자열을 추출한다.\n",
    "  - 시작, 끝 인덱스가 생략이 되어 있다면, 0부터 혹은 끝까지로 간주한다."
   ]
  },
  {
   "cell_type": "code",
   "execution_count": 28,
   "metadata": {},
   "outputs": [
    {
     "name": "stdout",
     "output_type": "stream",
     "text": [
      "안녕하십니까\n"
     ]
    }
   ],
   "source": [
    "a=\"안녕하십니까\"\n",
    "print(a[-6:])"
   ]
  },
  {
   "cell_type": "markdown",
   "metadata": {},
   "source": [
    "#### **문자열 함수**\n",
    "  - 문자열은 여러가지 기능 제공을 위한 함수를 내장하고 있다.   \n",
    "  - tab키를 이용해서 제공하는 함수들을 확인 할 수 있다. "
   ]
  },
  {
   "cell_type": "code",
   "execution_count": 40,
   "metadata": {},
   "outputs": [
    {
     "data": {
      "text/plain": [
       "'ABCDEF'"
      ]
     },
     "execution_count": 40,
     "metadata": {},
     "output_type": "execute_result"
    }
   ],
   "source": [
    "a=\"abcdef\"\n",
    "a.upper()"
   ]
  },
  {
   "cell_type": "code",
   "execution_count": 42,
   "metadata": {},
   "outputs": [
    {
     "data": {
      "text/plain": [
       "'abcdef'"
      ]
     },
     "execution_count": 42,
     "metadata": {},
     "output_type": "execute_result"
    }
   ],
   "source": [
    "b=\"ABCDEF\"\n",
    "b.lower()"
   ]
  },
  {
   "cell_type": "markdown",
   "metadata": {},
   "source": [
    "* **replace** \n",
    " - 문자열 내의 특정 문자를 치환"
   ]
  },
  {
   "cell_type": "code",
   "execution_count": 44,
   "metadata": {},
   "outputs": [
    {
     "data": {
      "text/plain": [
       "'cbcdef'"
      ]
     },
     "execution_count": 44,
     "metadata": {},
     "output_type": "execute_result"
    }
   ],
   "source": [
    "a=\"abcdef\"\n",
    "a.replace(\"a\",\"c\")\n"
   ]
  },
  {
   "cell_type": "code",
   "execution_count": 48,
   "metadata": {},
   "outputs": [
    {
     "name": "stdout",
     "output_type": "stream",
     "text": [
      "21n1n1\n"
     ]
    }
   ],
   "source": [
    "table=str.maketrans('abcde','12345')\n",
    "print('banana'.translate(table))"
   ]
  },
  {
   "cell_type": "code",
   "execution_count": 8,
   "metadata": {},
   "outputs": [],
   "source": [
    "#replace 문자열 바꾸기\n",
    "\n",
    "#문자 바꾸기\n"
   ]
  },
  {
   "cell_type": "markdown",
   "metadata": {},
   "source": [
    "* **format**\n",
    " - 문자열내의 특정한 값을 변수로부터 초기화하여 동적으로 문자열을 생성 "
   ]
  },
  {
   "cell_type": "code",
   "execution_count": 53,
   "metadata": {},
   "outputs": [
    {
     "name": "stdout",
     "output_type": "stream",
     "text": [
      "오늘 기온은 17도 이고 비올 확률은 20.0% 입니다\n",
      "오늘 기온은 20.0도 이고 비올 확률은 17% 입니다\n"
     ]
    }
   ],
   "source": [
    "온도=17\n",
    "확률=20.0\n",
    "a='오늘 기온은 {}도 이고 비올 확률은 {}% 입니다'.format(온도,확률)\n",
    "print(a)\n",
    "a='오늘 기온은 {1}도 이고 비올 확률은 {0}% 입니다'.format(온도,확률)\n",
    "print(a)"
   ]
  },
  {
   "cell_type": "code",
   "execution_count": 52,
   "metadata": {},
   "outputs": [
    {
     "name": "stdout",
     "output_type": "stream",
     "text": [
      "hello, 의석\n"
     ]
    }
   ],
   "source": [
    "print('hello, {}'.format('의석'))"
   ]
  },
  {
   "cell_type": "code",
   "execution_count": 54,
   "metadata": {},
   "outputs": [
    {
     "name": "stdout",
     "output_type": "stream",
     "text": [
      "123,456,789\n"
     ]
    }
   ],
   "source": [
    "print(format(123456789,','))"
   ]
  },
  {
   "cell_type": "code",
   "execution_count": 56,
   "metadata": {},
   "outputs": [
    {
     "name": "stdout",
     "output_type": "stream",
     "text": [
      "hello {17}\n"
     ]
    }
   ],
   "source": [
    "print(f'hello',{온도})"
   ]
  },
  {
   "cell_type": "markdown",
   "metadata": {},
   "source": [
    "* **split**\n",
    " - 문자열을 특정한 문자 구분하여(delimiter) 문자열의 리스트로 치환"
   ]
  },
  {
   "cell_type": "code",
   "execution_count": 57,
   "metadata": {},
   "outputs": [
    {
     "data": {
      "text/plain": [
       "['hello', 'world', 'what', 'a', 'nice', 'weather']"
      ]
     },
     "execution_count": 57,
     "metadata": {},
     "output_type": "execute_result"
    }
   ],
   "source": [
    "a = 'hello world what a nice weather'\n",
    "a.split()"
   ]
  },
  {
   "cell_type": "code",
   "execution_count": 64,
   "metadata": {},
   "outputs": [
    {
     "name": "stdout",
     "output_type": "stream",
     "text": [
      "['apple', 'pear', 'grape', 'pineapple', 'orange']\n",
      "['apple', ' pear', ' grape', ' pineapple', ' orange']\n"
     ]
    }
   ],
   "source": [
    "#문자열 분리하기  split()\n",
    "result = 'apple pear grape pineapple orange'.split() \n",
    "print(result) \n",
    "result = 'apple, pear, grape, pineapple, orange'.split(',') \n",
    "print(result)"
   ]
  },
  {
   "cell_type": "code",
   "execution_count": 62,
   "metadata": {},
   "outputs": [
    {
     "name": "stdout",
     "output_type": "stream",
     "text": [
      "12 332 221\n"
     ]
    },
    {
     "data": {
      "text/plain": [
       "[12, 332, 221]"
      ]
     },
     "execution_count": 62,
     "metadata": {},
     "output_type": "execute_result"
    }
   ],
   "source": [
    "aa=list(map(int,input().split()))\n",
    "aa"
   ]
  },
  {
   "cell_type": "code",
   "execution_count": null,
   "metadata": {},
   "outputs": [],
   "source": []
  },
  {
   "cell_type": "markdown",
   "metadata": {},
   "source": [
    "* **join**\n",
    "    - 구분자 문자열과 문자열 리스트 연결하기"
   ]
  },
  {
   "cell_type": "code",
   "execution_count": 69,
   "metadata": {
    "scrolled": true
   },
   "outputs": [
    {
     "name": "stdout",
     "output_type": "stream",
     "text": [
      "apple  pear  grape  pineapple  orange\n",
      "apple, pear, grape, pineapple, orange\n",
      "apple\n",
      " pear\n",
      " grape\n",
      " pineapple\n",
      " orange\n"
     ]
    }
   ],
   "source": [
    "#구분자 문자열과 문자열 리스트 연결하기  join\n",
    "joinStr=\" \".join(result)\n",
    "print(joinStr)\n",
    "joinStr=\",\".join(result)\n",
    "print(joinStr)\n",
    "joinStr=\"\\n\".join(result)\n",
    "print(joinStr)"
   ]
  },
  {
   "cell_type": "raw",
   "metadata": {},
   "source": [
    "* **공백삭제**"
   ]
  },
  {
   "cell_type": "code",
   "execution_count": 73,
   "metadata": {},
   "outputs": [
    {
     "name": "stdout",
     "output_type": "stream",
     "text": [
      "공백    없   애 기\n",
      "           공백    없   애 기\n",
      "공백    없   애 기     \n"
     ]
    }
   ],
   "source": [
    "print('           공백    없   애 기     '.strip())\n",
    "print('           공백    없   애 기     '.rstrip())\n",
    "print('           공백    없   애 기     '.lstrip())"
   ]
  },
  {
   "cell_type": "markdown",
   "metadata": {},
   "source": [
    "* **특정문자삭제**"
   ]
  },
  {
   "cell_type": "code",
   "execution_count": 75,
   "metadata": {},
   "outputs": [
    {
     "name": "stdout",
     "output_type": "stream",
     "text": [
      "     python \n"
     ]
    }
   ],
   "source": [
    "print(\"*..*     python .*\".strip(\"*.\"))"
   ]
  },
  {
   "cell_type": "code",
   "execution_count": 95,
   "metadata": {},
   "outputs": [
    {
     "name": "stdout",
     "output_type": "stream",
     "text": [
      "!\"#$%&'()*+,-./:;<=>?@[\\]^_`{|}~\n",
      "gghh\n",
      "python                        \n",
      "                        python\n",
      "            python            \n",
      "            PYTHON            \n",
      "-1\n",
      "10\n",
      "3\n"
     ]
    },
    {
     "ename": "ValueError",
     "evalue": "substring not found",
     "output_type": "error",
     "traceback": [
      "\u001b[1;31m---------------------------------------------------------------------------\u001b[0m",
      "\u001b[1;31mValueError\u001b[0m                                Traceback (most recent call last)",
      "\u001b[1;32m<ipython-input-95-26b01f261cc5>\u001b[0m in \u001b[0;36m<module>\u001b[1;34m\u001b[0m\n\u001b[0;32m     20\u001b[0m \u001b[1;33m\u001b[0m\u001b[0m\n\u001b[0;32m     21\u001b[0m \u001b[0mprint\u001b[0m\u001b[1;33m(\u001b[0m\u001b[1;34m'python hi hello'\u001b[0m\u001b[1;33m.\u001b[0m\u001b[0mindex\u001b[0m\u001b[1;33m(\u001b[0m\u001b[1;34m'h'\u001b[0m\u001b[1;33m)\u001b[0m\u001b[1;33m)\u001b[0m\u001b[1;33m\u001b[0m\u001b[1;33m\u001b[0m\u001b[0m\n\u001b[1;32m---> 22\u001b[1;33m \u001b[0mprint\u001b[0m\u001b[1;33m(\u001b[0m\u001b[1;34m'python hi hello'\u001b[0m\u001b[1;33m.\u001b[0m\u001b[0mrindex\u001b[0m\u001b[1;33m(\u001b[0m\u001b[1;34m'ha'\u001b[0m\u001b[1;33m)\u001b[0m\u001b[1;33m)\u001b[0m\u001b[1;33m\u001b[0m\u001b[1;33m\u001b[0m\u001b[0m\n\u001b[0m\u001b[0;32m     23\u001b[0m \u001b[1;31m#index는 못찾으면 에러\u001b[0m\u001b[1;33m\u001b[0m\u001b[1;33m\u001b[0m\u001b[1;33m\u001b[0m\u001b[0m\n\u001b[0;32m     24\u001b[0m \u001b[1;33m\u001b[0m\u001b[0m\n",
      "\u001b[1;31mValueError\u001b[0m: substring not found"
     ]
    }
   ],
   "source": [
    "#구두점을 간단하게 삭제하기    \n",
    "import string\n",
    "print(string.punctuation)\n",
    "print('!\"^_gghh}|~^_^\"'.strip(string.punctuation))\n",
    "#문자열 왼쪽 정렬하기\n",
    "print('python'.ljust(30))\n",
    "print('python'.rjust(30))\n",
    "print('python'.center(30))\n",
    "\n",
    "\n",
    "#메서드체이닝\n",
    "print('python'.center(30).upper())\n",
    "\n",
    "\n",
    "#문자열 위치찾기  find, rfind, index, rindex\n",
    "\n",
    "print('python hi hello'.find('ha'))\n",
    "print('python hi hello'.rfind('h'))\n",
    "#find는 없는 문자열 찾으면 -1 리턴\n",
    "\n",
    "print('python hi hello'.index('h'))\n",
    "print('python hi hello'.rindex('ha'))\n",
    "#index는 없는 문자열 찾으면 에러\n",
    "\n",
    "#문자열개수세기\n",
    "\n",
    "print('python hi hello'.count('o'))\n"
   ]
  },
  {
   "cell_type": "code",
   "execution_count": 107,
   "metadata": {},
   "outputs": [
    {
     "data": {
      "text/plain": [
       "False"
      ]
     },
     "execution_count": 107,
     "metadata": {},
     "output_type": "execute_result"
    }
   ],
   "source": [
    "'python hi hello'.startswith('y')\n",
    "#시작하는지 판별"
   ]
  },
  {
   "cell_type": "code",
   "execution_count": 108,
   "metadata": {},
   "outputs": [
    {
     "name": "stdout",
     "output_type": "stream",
     "text": [
      "False\n",
      "3\n",
      "4\n",
      "False\n"
     ]
    }
   ],
   "source": [
    "#비교연산  is 같은 객체인   is not 같은 객체가 아닌..  x or y , x and y , not x\n",
    "\n",
    "x= 3\n",
    "y= 4\n",
    "print(x is y)\n",
    "print(x or y)\n",
    "print(x and y)\n",
    "print(not x) #값이 있으면 True로 판별\n",
    "\n",
    "\n",
    "#문자열 타입\n",
    "\n",
    "#데이터가 여러 문자로 구성되어 있고 다른 문자와 연결될 수 있으며 데이터에 포함된 문자열의 길이를 확인 할 수 있는 데이터 타입\n",
    "\n",
    "#파이썬에서 문자열 데이터 타입은 str  여러줄로 표현할때는 ''' '''  또는 \"\"\" \"\"\"\n",
    "\n"
   ]
  },
  {
   "cell_type": "code",
   "execution_count": 16,
   "metadata": {},
   "outputs": [],
   "source": [
    "#변할 수 없는 (immutable) vs 변할 수 있는 (mutabel)\n",
    "\n"
   ]
  }
 ],
 "metadata": {
  "kernelspec": {
   "display_name": "Python 3",
   "language": "python",
   "name": "python3"
  },
  "language_info": {
   "codemirror_mode": {
    "name": "ipython",
    "version": 3
   },
   "file_extension": ".py",
   "mimetype": "text/x-python",
   "name": "python",
   "nbconvert_exporter": "python",
   "pygments_lexer": "ipython3",
   "version": "3.8.5"
  }
 },
 "nbformat": 4,
 "nbformat_minor": 1
}
