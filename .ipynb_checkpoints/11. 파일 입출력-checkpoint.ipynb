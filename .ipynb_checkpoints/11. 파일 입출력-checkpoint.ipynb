{
 "cells": [
  {
   "cell_type": "markdown",
   "metadata": {},
   "source": [
    "### 학습목표\n",
    "1. 파일 입출력에 대해 이해한다. \n",
    "1. 파일을 읽고 쓸 수 있다."
   ]
  },
  {
   "cell_type": "markdown",
   "metadata": {},
   "source": [
    "## **파일에 문자열 읽기, 쓰기**\n",
    "    + 파일에 문자열 쓰기 \n",
    "        1. 파일에 문자열을 쓸 때는 open 함수를 이용해서 파일객체를 얻어온다.\n",
    "        2. 얻어온 파일 객체에 wirte 메소드를 이용해서 문자열을 쓴다. \n",
    "        3. 모든 일이 끝나면 반드시 close 메소드를 이용해서 파일객체를 닫는다. "
   ]
  },
  {
   "cell_type": "code",
   "execution_count": 9,
   "metadata": {},
   "outputs": [
    {
     "name": "stdout",
     "output_type": "stream",
     "text": [
      "C:\\Users\\Admin\\apython\\03_20\n"
     ]
    }
   ],
   "source": [
    "# 경로이동 가능 \n",
    "# cd c:\\temp\n",
    "import os\n",
    "\n",
    "print(os.getcwd())\n",
    "os.chdir('/Users/Admin/apython/03_20')"
   ]
  },
  {
   "cell_type": "code",
   "execution_count": 11,
   "metadata": {},
   "outputs": [],
   "source": [
    "f = open('myFile.txt', 'w')           # (1)'myFile.txt' 파일 쓰기 모드로 열기\n",
    "f.write('This is my first file.')     # (2) 연 파일에 문자열 쓰기\n",
    "f.close()                             # (3) 파일 닫기"
   ]
  },
  {
   "cell_type": "code",
   "execution_count": 12,
   "metadata": {},
   "outputs": [
    {
     "name": "stdout",
     "output_type": "stream",
     "text": [
      "This is my first file.\n"
     ]
    }
   ],
   "source": [
    "#주피터노트북에서 !명령어 로 운영체제 명령어 수행가능!!  \n",
    "#!type 파일명 텍스트파일내용 출력..  맥은 !cat 파일명 으로 가능 \n",
    "!type myFile.txt"
   ]
  },
  {
   "cell_type": "markdown",
   "metadata": {},
   "source": [
    " + 파일 읽기\n",
    "      1. 파일에 문자열을 쓸 때는 open 함수를 이용해서 파일객체를 얻어온다.\n",
    "      2. 얻어온 파일 객체에 read 메소드를 이용해서 문자열을 쓴다. \n",
    "      3. 모든 일이 끝나면 반드시 close 메소드를 이용해서 파일객체를 닫는다. "
   ]
  },
  {
   "cell_type": "code",
   "execution_count": 15,
   "metadata": {},
   "outputs": [
    {
     "name": "stdout",
     "output_type": "stream",
     "text": [
      "This is my first file.\n"
     ]
    }
   ],
   "source": [
    "f= open('myFile.txt','r')\n",
    "a=f.read()\n",
    "f.close()\n",
    "\n",
    "print(a)"
   ]
  },
  {
   "cell_type": "markdown",
   "metadata": {},
   "source": [
    "#### **반복문을 이용해 파일 읽고 쓰기**\n",
    "    - 파일에 문자열 한 줄씩 쓰기\n"
   ]
  },
  {
   "cell_type": "code",
   "execution_count": 55,
   "metadata": {},
   "outputs": [],
   "source": [
    "f=open('gugudan.txt','w')\n",
    "\n",
    "for i in range(1,10):\n",
    "    f.write(\"{} X {} = {} \\n\".format(2,i,2*i))\n",
    "f.close()\n"
   ]
  },
  {
   "cell_type": "code",
   "execution_count": 56,
   "metadata": {},
   "outputs": [],
   "source": [
    "# !type gugudan.txt"
   ]
  },
  {
   "cell_type": "markdown",
   "metadata": {},
   "source": [
    "- 리스트에 들어있는 문자열 파일에 쓰기 \n",
    "    - 파일객체.writelines(문자열리스트)"
   ]
  },
  {
   "cell_type": "code",
   "execution_count": 46,
   "metadata": {},
   "outputs": [
    {
     "name": "stdout",
     "output_type": "stream",
     "text": [
      "hello\n",
      "hi\n",
      "bye\n"
     ]
    }
   ],
   "source": [
    "lst=['hello\\n','hi\\n','bye\\n']\n",
    "f=open(\"list_test.txt\",\"w\")\n",
    "f.writelines(lst)\n",
    "f.close()\n",
    "!type list_test.txt"
   ]
  },
  {
   "cell_type": "markdown",
   "metadata": {},
   "source": [
    "- 파일에서 문자열 한 줄씩 읽기\n",
    "    + **readline()**"
   ]
  },
  {
   "cell_type": "code",
   "execution_count": 57,
   "metadata": {
    "scrolled": true
   },
   "outputs": [
    {
     "name": "stdout",
     "output_type": "stream",
     "text": [
      "2 X 1 = 2 \n",
      "2 X 2 = 4 \n",
      "2 X 3 = 6 \n",
      "2 X 4 = 8 \n",
      "2 X 5 = 10 \n",
      "2 X 6 = 12 \n",
      "2 X 7 = 14 \n",
      "2 X 8 = 16 \n",
      "2 X 9 = 18 \n",
      "\n"
     ]
    }
   ],
   "source": [
    "f=open('gugudan.txt','r')\n",
    "a=f.read()\n",
    "f.close()\n",
    "print(a)"
   ]
  },
  {
   "cell_type": "code",
   "execution_count": 60,
   "metadata": {},
   "outputs": [
    {
     "name": "stdout",
     "output_type": "stream",
     "text": [
      "2 X 1 = 2 \n",
      "\n"
     ]
    }
   ],
   "source": [
    "f=open('gugudan.txt','r')\n",
    "a=f.readline()\n",
    "f.close()\n",
    "print(a)"
   ]
  },
  {
   "cell_type": "code",
   "execution_count": 62,
   "metadata": {
    "scrolled": true
   },
   "outputs": [
    {
     "name": "stdout",
     "output_type": "stream",
     "text": [
      "2 X 1 = 2 \n",
      "2 X 2 = 4 \n",
      "2 X 3 = 6 \n",
      "2 X 4 = 8 \n",
      "2 X 5 = 10 \n",
      "2 X 6 = 12 \n",
      "2 X 7 = 14 \n",
      "2 X 8 = 16 \n",
      "2 X 9 = 18 \n",
      "\n",
      "2 X 1 = 2 \n",
      "\n",
      "['2 X 1 = 2 \\n', '2 X 2 = 4 \\n', '2 X 3 = 6 \\n', '2 X 4 = 8 \\n', '2 X 5 = 10 \\n', '2 X 6 = 12 \\n', '2 X 7 = 14 \\n', '2 X 8 = 16 \\n', '2 X 9 = 18 \\n']\n"
     ]
    }
   ],
   "source": [
    "f=open('gugudan.txt','r')\n",
    "text=f.read()\n",
    "f.close()\n",
    "\n",
    "f=open('gugudan.txt','r')\n",
    "text2=f.readline()\n",
    "f.close()\n",
    "\n",
    "f=open('gugudan.txt','r')\n",
    "text3=f.readlines()\n",
    "f.close()\n",
    "\n",
    "print(text)\n",
    "print(text2)\n",
    "print(text3)\n"
   ]
  },
  {
   "cell_type": "code",
   "execution_count": 74,
   "metadata": {},
   "outputs": [
    {
     "name": "stdout",
     "output_type": "stream",
     "text": [
      "2 X 1 = 2\n",
      "2 X 2 = 4\n",
      "2 X 3 = 6\n",
      "2 X 4 = 8\n",
      "2 X 5 = 10\n",
      "2 X 6 = 12\n",
      "2 X 7 = 14\n",
      "2 X 8 = 16\n",
      "2 X 9 = 18\n"
     ]
    }
   ],
   "source": [
    "f=open('gugudan.txt','r')\n",
    "\n",
    "while True:\n",
    "    text=f.readline().rstrip()\n",
    "    if text:\n",
    "        print(text)\n",
    "    else:\n",
    "        break\n",
    "f.close()"
   ]
  },
  {
   "cell_type": "markdown",
   "metadata": {},
   "source": [
    "- 파일의 내용을 한 줄씩 리스트로 가져오기.\n",
    "    + **readlines()**"
   ]
  },
  {
   "cell_type": "code",
   "execution_count": 81,
   "metadata": {},
   "outputs": [
    {
     "data": {
      "text/plain": [
       "['2 X 1 = 2 \\n',\n",
       " '2 X 2 = 4 \\n',\n",
       " '2 X 3 = 6 \\n',\n",
       " '2 X 4 = 8 \\n',\n",
       " '2 X 5 = 10 \\n',\n",
       " '2 X 6 = 12 \\n',\n",
       " '2 X 7 = 14 \\n',\n",
       " '2 X 8 = 16 \\n',\n",
       " '2 X 9 = 18 \\n']"
      ]
     },
     "execution_count": 81,
     "metadata": {},
     "output_type": "execute_result"
    }
   ],
   "source": [
    "f=open('gugudan.txt','r')\n",
    "b=f.readlines()\n",
    "f.close()\n",
    "b"
   ]
  },
  {
   "cell_type": "code",
   "execution_count": 78,
   "metadata": {},
   "outputs": [
    {
     "name": "stdout",
     "output_type": "stream",
     "text": [
      "2 X 1 = 2\n",
      "2 X 2 = 4\n",
      "2 X 3 = 6\n",
      "2 X 4 = 8\n",
      "2 X 5 = 10\n",
      "2 X 6 = 12\n",
      "2 X 7 = 14\n",
      "2 X 8 = 16\n",
      "2 X 9 = 18\n"
     ]
    }
   ],
   "source": [
    "f=open('gugudan.txt','r')\n",
    "for text in f.readlines():\n",
    "    print(text.rstrip())\n",
    "f.close()"
   ]
  },
  {
   "cell_type": "code",
   "execution_count": 101,
   "metadata": {},
   "outputs": [
    {
     "name": "stdout",
     "output_type": "stream",
     "text": [
      "2 X 1 = 2 \n",
      "2 X 2 = 4 \n",
      "2 X 3 = 6 \n",
      "2 X 4 = 8 \n",
      "2 X 5 = 10 \n",
      "2 X 6 = 12 \n",
      "2 X 7 = 14 \n",
      "2 X 8 = 16 \n",
      "2 X 9 = 18 \n"
     ]
    }
   ],
   "source": [
    "f=open('gugudan.txt','r')\n",
    "for text in f:\n",
    "    print(text,end=\"\")\n",
    "f.close()"
   ]
  },
  {
   "cell_type": "code",
   "execution_count": 100,
   "metadata": {},
   "outputs": [
    {
     "name": "stdout",
     "output_type": "stream",
     "text": [
      "['2 X 1 = 2 \\n', '2 X 2 = 4 \\n', '2 X 3 = 6 \\n', '2 X 4 = 8 \\n', '2 X 5 = 10 \\n', '2 X 6 = 12 \\n', '2 X 7 = 14 \\n', '2 X 8 = 16 \\n', '2 X 9 = 18 \\n']\n"
     ]
    }
   ],
   "source": [
    "f=open('gugudan.txt','r')\n",
    "print(list(f))\n",
    "f.close()"
   ]
  },
  {
   "cell_type": "code",
   "execution_count": null,
   "metadata": {},
   "outputs": [],
   "source": [
    "##참고 \n",
    "#파일 객체는 이터레이터입니다. 따라서 변수 여러 개에 저장하는 언패킹(unpacking)도 가능합니다\n",
    "\n"
   ]
  },
  {
   "cell_type": "code",
   "execution_count": 92,
   "metadata": {},
   "outputs": [],
   "source": [
    "f=open('gugudan2.txt','w')\n",
    "for i in range(1,4):\n",
    "    f.write(\"3 X {} = {}\\n\".format(i,i*3))\n",
    "f.close()"
   ]
  },
  {
   "cell_type": "code",
   "execution_count": 95,
   "metadata": {},
   "outputs": [
    {
     "name": "stdout",
     "output_type": "stream",
     "text": [
      "3 X 1 = 3\n",
      "3 X 2 = 6\n",
      "3 X 3 = 9\n"
     ]
    }
   ],
   "source": [
    "!type gugudan2.txt"
   ]
  },
  {
   "cell_type": "code",
   "execution_count": 97,
   "metadata": {},
   "outputs": [
    {
     "name": "stdout",
     "output_type": "stream",
     "text": [
      "3 X 1 = 3\n",
      "3 X 2 = 6\n",
      "3 X 3 = 9\n",
      "\n"
     ]
    }
   ],
   "source": [
    "f=open('gugudan2.txt','r')\n",
    "a,b,c=f\n",
    "print(a+b+c)"
   ]
  },
  {
   "cell_type": "markdown",
   "metadata": {},
   "source": [
    "####  자동으로 file 객체를 닫아주는 with \n",
    "    - with 문의 구조\n",
    "    \n",
    "    ```\n",
    "    with open(파일이름, 파일모드) as 파일객체:\n",
    "        코드\n",
    "        \n",
    "    ``` "
   ]
  },
  {
   "cell_type": "code",
   "execution_count": 106,
   "metadata": {},
   "outputs": [],
   "source": [
    "with open('test.txt','w') as f:\n",
    "    f.write('안녕하세요')\n",
    "    f.write('안녕하세요')\n",
    "    f.write('안녕하세요')\n"
   ]
  },
  {
   "cell_type": "code",
   "execution_count": 107,
   "metadata": {
    "code_folding": []
   },
   "outputs": [
    {
     "name": "stdout",
     "output_type": "stream",
     "text": [
      "안녕하세요안녕하세요안녕하세요\n"
     ]
    }
   ],
   "source": [
    "!type test.txt"
   ]
  },
  {
   "cell_type": "code",
   "execution_count": null,
   "metadata": {},
   "outputs": [],
   "source": []
  },
  {
   "cell_type": "code",
   "execution_count": null,
   "metadata": {},
   "outputs": [],
   "source": []
  },
  {
   "cell_type": "markdown",
   "metadata": {},
   "source": [
    "#### 객체를 파일에 저장하는 pickle 모듈\n",
    "    - 파이썬 객체를 파일에 저장하는 과정을 피클링(pickling)이라고 한다.\n",
    "    - 파일에서 객체를 읽어오는 과정을 언피클링(unpickling)이라고 한다. "
   ]
  },
  {
   "cell_type": "markdown",
   "metadata": {},
   "source": [
    "- 파이썬 객체를 파일에 저장하기\n",
    "    +  pickle 모듈의 dump 메서드를 사용한다\n"
   ]
  },
  {
   "cell_type": "code",
   "execution_count": null,
   "metadata": {},
   "outputs": [],
   "source": []
  },
  {
   "cell_type": "markdown",
   "metadata": {},
   "source": [
    "- 파일에서 파이썬객체 읽기\n",
    "    - pickle 모듈의 load를 사용한다. "
   ]
  },
  {
   "cell_type": "code",
   "execution_count": null,
   "metadata": {},
   "outputs": [],
   "source": []
  },
  {
   "cell_type": "markdown",
   "metadata": {},
   "source": [
    "파일 모드 종류\n",
    "\n",
    "r - 읽기모드 (디폴트)\n",
    "\n",
    "w - 쓰기모드, 파일이 있으면 모든 내용을 삭제\n",
    "\n",
    "x - 쓰기모드, 파일이 있으면 오류 발생\n",
    "\n",
    "a - 쓰기모드, 파일이 있으면 뒤에 내용을 추가\n",
    "\n",
    "+ - 읽기쓰기모드\n",
    "\n",
    "t - 텍스트 모드, 텍스트 문자 기록에 사용 (디폴트)\n",
    "\n",
    "b - 바이너리 모드, 바이트단위 데이터 기록에 사용\n",
    "\n",
    "![파일모드](027004.png)"
   ]
  },
  {
   "cell_type": "markdown",
   "metadata": {},
   "source": [
    "#### 연습문제 \n",
    "\n",
    "1. 단어를 10개 입력받아서 words.txt 파일에 저장하세요. \n",
    "\n",
    "2. 위에서 저장한 words.txt 파일에서 단어가 5자 이하인 단어의 개수를 출력하는 코드를 만들어 보세요. \n",
    "\n",
    "**가능하다면, 두 문제 모두 함수로 정의해 주세요**\n"
   ]
  },
  {
   "cell_type": "code",
   "execution_count": 121,
   "metadata": {
    "scrolled": true
   },
   "outputs": [
    {
     "name": "stdout",
     "output_type": "stream",
     "text": [
      "단어를 입력해주세요 : 정의석\n",
      "단어를 입력해주세요 : 정의석정의석\n",
      "단어를 입력해주세요 : 정의석정의석\n",
      "단어를 입력해주세요 : 정의석정의석\n",
      "단어를 입력해주세요 : 정의석정의석\n",
      "단어를 입력해주세요 : 정의석정의석\n",
      "단어를 입력해주세요 : 정의석정의석\n",
      "단어를 입력해주세요 : 정의석정의석\n",
      "단어를 입력해주세요 : 정의석정의석\n",
      "단어를 입력해주세요 : 정의석정의석\n",
      "5자 이하인 단어 개수 = 1\n"
     ]
    }
   ],
   "source": [
    "def write_words():\n",
    "    with open('words.txt','w') as f:\n",
    "        for i in range(10):\n",
    "            f.write((input(\"단어를 입력해주세요 : \"))+\"\\n\")\n",
    "            \n",
    "def read_words():\n",
    "    count=0\n",
    "    with open('words.txt','r') as f:\n",
    "        for i in f:\n",
    "            if len(i.rstrip())<=5:\n",
    "                count+=1\n",
    "    return count\n",
    "                \n",
    "write_words()\n",
    "count= read_words()\n",
    "\n",
    "# !type words.txt\n",
    "print(\"5자 이하인 단어 개수 = {}\".format(count))"
   ]
  },
  {
   "cell_type": "code",
   "execution_count": null,
   "metadata": {},
   "outputs": [],
   "source": []
  },
  {
   "cell_type": "code",
   "execution_count": null,
   "metadata": {},
   "outputs": [],
   "source": []
  },
  {
   "cell_type": "code",
   "execution_count": null,
   "metadata": {},
   "outputs": [],
   "source": []
  }
 ],
 "metadata": {
  "anaconda-cloud": {},
  "kernelspec": {
   "display_name": "Python 3",
   "language": "python",
   "name": "python3"
  },
  "language_info": {
   "codemirror_mode": {
    "name": "ipython",
    "version": 3
   },
   "file_extension": ".py",
   "mimetype": "text/x-python",
   "name": "python",
   "nbconvert_exporter": "python",
   "pygments_lexer": "ipython3",
   "version": "3.8.5"
  },
  "latex_envs": {
   "LaTeX_envs_menu_present": false,
   "autoclose": false,
   "autocomplete": false,
   "bibliofile": "biblio.bib",
   "cite_by": "apalike",
   "current_citInitial": 1,
   "eqLabelWithNumbers": false,
   "eqNumInitial": 1,
   "hotkeys": {
    "equation": "Ctrl-E",
    "itemize": "Ctrl-I"
   },
   "labels_anchors": false,
   "latex_user_defs": false,
   "report_style_numbering": false,
   "user_envs_cfg": false
  },
  "nav_menu": {},
  "toc": {
   "nav_menu": {
    "height": "252px",
    "width": "252px"
   },
   "number_sections": false,
   "sideBar": true,
   "skip_h1_title": false,
   "toc_cell": false,
   "toc_position": {
    "height": "545px",
    "left": "0px",
    "right": "984px",
    "top": "111px",
    "width": "382px"
   },
   "toc_section_display": "block",
   "toc_window_display": false
  },
  "toc_position": {
   "height": "533px",
   "left": "0px",
   "right": "1045.17px",
   "top": "107px",
   "width": "207px"
  }
 },
 "nbformat": 4,
 "nbformat_minor": 1
}
