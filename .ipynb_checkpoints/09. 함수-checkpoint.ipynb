{
 "cells": [
  {
   "cell_type": "markdown",
   "metadata": {},
   "source": [
    "### 학습목표\n",
    " 1. 함수를 이해하고 활용 할 수 있다."
   ]
  },
  {
   "cell_type": "markdown",
   "metadata": {},
   "source": [
    "### 함수란?\n",
    "* 지금까지 무심코 코드에서 사용된 많은 함수들이 존재 한다.\n",
    "* 예를들면, sum, len, range 같은 함수 등이 있다. \n",
    "* 함수란 우리가 알고있는 개념처럼 주어진 입력(input)에 대해서 의도된 출력(output)를 전달하는 역할을 한다.\n",
    "\n",
    "* python 내부에 이미 정의(구현)된 함수를 내장함수(built-in function)이라고 한다."
   ]
  },
  {
   "cell_type": "code",
   "execution_count": null,
   "metadata": {},
   "outputs": [],
   "source": []
  },
  {
   "cell_type": "markdown",
   "metadata": {},
   "source": [
    "#### **함수의 정의**\n",
    "\n",
    "```\n",
    "def 함수명(매개변수):\n",
    "    수행할문장들..\n",
    "    \n",
    "```\n",
    "  + def 키워드 사용한다.\n",
    "  + 매개변수란 함수에 입력으로 전달하는 값을 의미한다.parameter라고 한다.\n",
    "  + : (콜론) \n",
    "  + body (함수의 구현 부분, 함수 역시 코드 블록이기 때문에 들여쓰기 된 부분까지 함수의 코드블록으로 인지 함)\n",
    "    - 함수를 호출한 코드 (caller)로 함수가 해당 기능을 수행하고 완료된 값(output)을 전달하기 위해 return 키워드 사용한다.\n",
    "    - 즉, return 이후에 오는 값을 caller로 전달한다.\n",
    "  + 함수의 네이밍 무척 중요하다.\n",
    "    - 즉, 어떤 기능을 하는 함수인지 이름으로 최대한 나타날 수 있게 해야한다."
   ]
  },
  {
   "cell_type": "code",
   "execution_count": 1,
   "metadata": {},
   "outputs": [],
   "source": []
  },
  {
   "cell_type": "markdown",
   "metadata": {},
   "source": [
    "#### **함수의 사용(호출)**\n",
    " + 함수명(argument1, argument2, ... argumentn)\n",
    " + 위와 같이 정의 된 함수의 이름과 전달되는 argument(인수)를 괄호안에 전달하여 함수를 호출\n",
    " + 함수가 호출되면 실행의 흐름이 호출자(caller)에서 함수(callee)로 변경 된다."
   ]
  },
  {
   "cell_type": "code",
   "execution_count": 1,
   "metadata": {},
   "outputs": [
    {
     "name": "stdout",
     "output_type": "stream",
     "text": [
      "5\n"
     ]
    }
   ],
   "source": [
    "def add(x,y):\n",
    "    result=x+y\n",
    "    return result\n",
    "\n",
    "num=add(3,2)\n",
    "print(num)\n",
    "    "
   ]
  },
  {
   "cell_type": "code",
   "execution_count": 7,
   "metadata": {},
   "outputs": [
    {
     "name": "stdout",
     "output_type": "stream",
     "text": [
      "몇 단? 5\n",
      "5 X 1 = 5\n",
      "5 X 2 = 10\n",
      "5 X 3 = 15\n",
      "5 X 4 = 20\n",
      "5 X 5 = 25\n",
      "5 X 6 = 30\n",
      "5 X 7 = 35\n",
      "5 X 8 = 40\n",
      "5 X 9 = 45\n"
     ]
    }
   ],
   "source": [
    "def guguprint(n):\n",
    "    for i in range(1,10):\n",
    "        print(\"{} X {} = {}\".format(n,i,n*i))\n",
    "\n",
    "n=int(input('몇 단? '))\n",
    "guguprint(n)"
   ]
  },
  {
   "cell_type": "markdown",
   "metadata": {},
   "source": [
    "#### **parameter**\n",
    " + 함수에 전달되는 입력(input)\n",
    " + 입력이 필요하지 않을 수도, 1개의 입력만 있을 수도, 여러개의 입력이 존재할 수 도 있다.\n",
    " + 파라미터로 int, string, float, boolm, list, dict 등등 어떤 파이썬 객체도 전달 가능하다.\n",
    " + 심지어, 함수도 함수의 파라미터로 전달 가능하다.\n",
    " \n",
    " + python의 경우, 타입 명시가 없기 때문에, 함수 생성 시, 의도된 파라미터의 타입에 맞게 입력을 전달하는 것이 중요하다.\n",
    " + 또한 파라미터를 전달 할 때, 정의된 순서에 따라 값을 전달하는 것이 중요하다.\n"
   ]
  },
  {
   "cell_type": "code",
   "execution_count": 8,
   "metadata": {},
   "outputs": [
    {
     "name": "stdout",
     "output_type": "stream",
     "text": [
      "hello\n"
     ]
    }
   ],
   "source": [
    "def show():\n",
    "    print('hello')\n",
    "    \n",
    "show()"
   ]
  },
  {
   "cell_type": "code",
   "execution_count": 15,
   "metadata": {},
   "outputs": [
    {
     "name": "stdout",
     "output_type": "stream",
     "text": [
      "1 2 3\n"
     ]
    }
   ],
   "source": [
    "def print_num(a,b,c):\n",
    "    print(a,b,c)\n",
    "list_a=[1,2,3]\n",
    "print_num(*list_a) #리스트 언패킹"
   ]
  },
  {
   "cell_type": "markdown",
   "metadata": {},
   "source": [
    "####  Default parameter (기본 인자) \n",
    " + 함수의 파라미터에 기본값 지정 가능하다.\n",
    " + 파라미터를 명시하지 않을 경우, 지정된 기본값으로 대체한다.\n",
    " + 디폴트 파라미터 뒤에 일반 파라미터가 위치할 수 없다. "
   ]
  },
  {
   "cell_type": "code",
   "execution_count": 32,
   "metadata": {},
   "outputs": [
    {
     "data": {
      "text/plain": [
       "60"
      ]
     },
     "execution_count": 32,
     "metadata": {},
     "output_type": "execute_result"
    }
   ],
   "source": [
    "def add(x,y=10,z=20):\n",
    "    return x+y+z\n",
    "\n",
    "add(30)"
   ]
  },
  {
   "cell_type": "code",
   "execution_count": null,
   "metadata": {},
   "outputs": [],
   "source": []
  },
  {
   "cell_type": "markdown",
   "metadata": {},
   "source": [
    "* **기본 파라미터의 다른 예**\n",
    " - print 함수\n",
    "   - sep, end, file등 여러 기본 파라미터를 가짐 "
   ]
  },
  {
   "cell_type": "code",
   "execution_count": 33,
   "metadata": {},
   "outputs": [
    {
     "name": "stdout",
     "output_type": "stream",
     "text": [
      "1,2,3z"
     ]
    }
   ],
   "source": [
    "print(1,2,3,sep=\",\",end=\"z\")"
   ]
  },
  {
   "cell_type": "markdown",
   "metadata": {},
   "source": [
    "#### **keyword parameter (키워드 파라미터)**\n",
    "  * 파이썬의 경우, 파라미터에 값을 전달 할 때, 파라미터의 이름을 명시하여 전달 가능하다.\n",
    "  * 파라미터 이름을 사용하지 않을 경우, 기본적으로 순서에 맞게 전달한다."
   ]
  },
  {
   "cell_type": "code",
   "execution_count": 34,
   "metadata": {},
   "outputs": [
    {
     "name": "stdout",
     "output_type": "stream",
     "text": [
      "x: 10\n",
      "y: 20\n",
      "z: 30\n",
      "x: 1\n",
      "y: 200\n",
      "z: 300\n"
     ]
    }
   ],
   "source": [
    "def add(x,y,z):\n",
    "    print('x:',x)\n",
    "    print('y:',y)\n",
    "    print('z:',z)\n",
    "add(10,20,30)\n",
    "add(z=300,y=200,x=1)"
   ]
  },
  {
   "cell_type": "markdown",
   "metadata": {},
   "source": [
    "#### **return (리턴)**\n",
    " + 함수의 종료를 명시한다.\n",
    "   + return 옆에 값이나 수식이 있다면 해당 값을 호출자(caller)에게 반환(전달)한다.\n",
    "   + return 만 존재하면 None을 반환\n",
    "   + return이 없는 경우, 함수 코드 블록이 종료되면 종료된다. 이때도 None을 반환한다."
   ]
  },
  {
   "cell_type": "code",
   "execution_count": 38,
   "metadata": {},
   "outputs": [
    {
     "name": "stdout",
     "output_type": "stream",
     "text": [
      "30\n"
     ]
    }
   ],
   "source": [
    "def add(x,y):\n",
    "    return x+y\n",
    "r=add(10,20)\n",
    "print(r)"
   ]
  },
  {
   "cell_type": "code",
   "execution_count": 40,
   "metadata": {},
   "outputs": [
    {
     "name": "stdout",
     "output_type": "stream",
     "text": [
      "11 12\n"
     ]
    }
   ],
   "source": [
    "def add_10(x,y):\n",
    "    return x+10, y+10\n",
    "x,y=add_10(1,2)\n",
    "print(x,y)"
   ]
  },
  {
   "cell_type": "code",
   "execution_count": null,
   "metadata": {},
   "outputs": [],
   "source": []
  },
  {
   "cell_type": "markdown",
   "metadata": {},
   "source": [
    "#### **multiple return (복수 값 반환)**\n",
    " + tuple반환을 하여 복수개의 값 리턴 가능하다."
   ]
  },
  {
   "cell_type": "code",
   "execution_count": 46,
   "metadata": {},
   "outputs": [
    {
     "data": {
      "text/plain": [
       "'안녕'"
      ]
     },
     "execution_count": 46,
     "metadata": {},
     "output_type": "execute_result"
    }
   ],
   "source": [
    "def hello():\n",
    "    pass\n",
    "hello()\n",
    "\n",
    "str.__doc__\n",
    "\n",
    "sum.__doc__\n",
    "\n",
    "def my_func():\n",
    "    \"\"\"안녕\"\"\"\n",
    "    print('zz')\n",
    "\n",
    "my_func.__doc__"
   ]
  },
  {
   "cell_type": "markdown",
   "metadata": {},
   "source": [
    "#### **variable scope (변수의 범위)** \n",
    " + 변수가 참조 가능한 코드상의 범위를 명시한다.\n",
    " + 함수내의 변수는 자신이 속한 코드 블록이 종료되면 소멸된다.\n",
    " + 이렇게 특정 코드 블록에서 선언된 변수를 **지역변수(local variable)** 라고한다.\n",
    " + 반대로 가장 상단에서 정의되어 프로그램 종료 전까지 유지되는 변수를 **전역변수(global variable)**라고한다.\n",
    " + 같은 이름의 지역변수와 전역변수가 존재할 경우, 지역변수의 우선순위가 더 높다."
   ]
  },
  {
   "cell_type": "code",
   "execution_count": 51,
   "metadata": {},
   "outputs": [
    {
     "name": "stdout",
     "output_type": "stream",
     "text": [
      "20\n"
     ]
    }
   ],
   "source": [
    "a=10\n",
    "def test(a):\n",
    "    a+=10\n",
    "    return a\n",
    "result=test(a)\n",
    "print(result)"
   ]
  },
  {
   "cell_type": "code",
   "execution_count": 53,
   "metadata": {},
   "outputs": [
    {
     "name": "stdout",
     "output_type": "stream",
     "text": [
      "20\n"
     ]
    }
   ],
   "source": [
    "a=10\n",
    "\n",
    "def var_test():\n",
    "    global a\n",
    "    a+=10\n",
    "var_test()\n",
    "print(a)"
   ]
  },
  {
   "cell_type": "code",
   "execution_count": null,
   "metadata": {},
   "outputs": [],
   "source": [
    "\n",
    "    "
   ]
  },
  {
   "cell_type": "code",
   "execution_count": null,
   "metadata": {},
   "outputs": [],
   "source": [
    "# global "
   ]
  },
  {
   "cell_type": "markdown",
   "metadata": {},
   "source": [
    "#### **variable length argument (가변길이 인자)**\n",
    " - 전달되는 파라미터의 개수가 가변적일때 사용한다.\n",
    " - 예를들면 print 함수나 format 함수를 생각해 볼 수 있다. \n",
    "     * **args**    : 파라미터를 튜플의 형태로 전달\n",
    "\n",
    "     * **kwargs** : 파리미터를 딕셔너리 형태로 전달(네임드 파라미터)\n",
    "     \n",
    "```\n",
    "    def 함수이름(*매개변수): \n",
    "        수행할 문장\n",
    "    ...\n",
    "```\n",
    "```\n",
    "    def 함수이름(**kwargs): \n",
    "        수행할 문장\n",
    "```"
   ]
  },
  {
   "cell_type": "code",
   "execution_count": null,
   "metadata": {},
   "outputs": [],
   "source": []
  },
  {
   "cell_type": "code",
   "execution_count": 59,
   "metadata": {},
   "outputs": [
    {
     "name": "stdout",
     "output_type": "stream",
     "text": [
      "1\n",
      "3\n",
      "21\n"
     ]
    }
   ],
   "source": [
    "#입력값을 모두 더하는 함수를 구현해 보세요.  \n",
    "\n",
    "def test(*args):\n",
    "    result=0\n",
    "    for i in args:\n",
    "        result+=i\n",
    "    return result\n",
    "print(test(1))\n",
    "print(test(1,2))\n",
    "print(test(1,2,3,4,5,6))\n"
   ]
  },
  {
   "cell_type": "markdown",
   "metadata": {},
   "source": [
    "#### **keyword parameter (키워드 파라미터)**\n",
    " - \\**가 붙은 경우에는 키워드 파라미터로 인식\n",
    " - 즉 함수 호출 시, 파리미터의 이름과 값을 함께 전달 가능"
   ]
  },
  {
   "cell_type": "code",
   "execution_count": 65,
   "metadata": {},
   "outputs": [
    {
     "name": "stdout",
     "output_type": "stream",
     "text": [
      "a 1\n",
      "b 10\n"
     ]
    }
   ],
   "source": [
    "def test2(**kwargs):\n",
    "    for k,v in kwargs.items():\n",
    "        print(k,v)\n",
    "\n",
    "test2(a=1,b=10)"
   ]
  },
  {
   "cell_type": "code",
   "execution_count": 68,
   "metadata": {},
   "outputs": [
    {
     "name": "stdout",
     "output_type": "stream",
     "text": [
      "이름:  정의석\n",
      "번호:  010\n",
      "주소:  서울\n"
     ]
    }
   ],
   "source": [
    "def person_info(name,phone,address):\n",
    "    print('이름: ',name)\n",
    "    print('번호: ',phone)\n",
    "    print('주소: ',address)\n",
    "person_info('정의석','010','서울')"
   ]
  },
  {
   "cell_type": "code",
   "execution_count": null,
   "metadata": {},
   "outputs": [],
   "source": [
    "d={'name':'정의석','address':'서울시','phone':'010-2222-2222'}\n",
    "person_info(*d) #key 값만 받아옴\n",
    "person_info(**d) #key, value 다 받아옴"
   ]
  },
  {
   "cell_type": "markdown",
   "metadata": {},
   "source": [
    "#### 위치 인수와 키워드 인수를 함께 사용하기"
   ]
  },
  {
   "cell_type": "code",
   "execution_count": 78,
   "metadata": {},
   "outputs": [
    {
     "name": "stdout",
     "output_type": "stream",
     "text": [
      "1\t2\t3!!!"
     ]
    }
   ],
   "source": [
    "def my_print(*args,**kwargs):\n",
    "    print(*args,**kwargs)\n",
    "my_print(1,2,3,sep='\\t',end='!!!')"
   ]
  },
  {
   "cell_type": "markdown",
   "metadata": {},
   "source": [
    "#### 연습문제 \n",
    "\n",
    "1.리스트를 입력받아서 리스트의 요소중 중복된 값은 삭제하고, 유일한 값만 유지하는 리스트를 반환하는 함수를 정의 하세요.  \n",
    "\n",
    "----\n",
    "입력 예 [1,2,2,3,4,5,4]\n",
    "\n",
    "출력 예 [1,2,3,4,5] \n",
    "\n",
    "----\n",
    "\n",
    "1. 문자열 두개를 인자로 전달받아 길이가 더 긴 문자열을 반환하는 함수를 정의하세요. 단, 두개의 길이가 같다면 첫번째 인자를 반환하세요. \n",
    "\n",
    "----\n",
    "입력 예 'test' 'python' \n",
    "출력 예 'python'\n",
    "\n",
    "입력 예 'java' 'test'\n",
    "출력 예 'java'\n",
    "\n",
    "-----\n"
   ]
  },
  {
   "cell_type": "code",
   "execution_count": 94,
   "metadata": {},
   "outputs": [
    {
     "name": "stdout",
     "output_type": "stream",
     "text": [
      "[1, 2, 3, 4, 5]\n"
     ]
    }
   ],
   "source": [
    "a=[1,2,2,3,4,5,4]\n",
    "\n",
    "def set_list(abcd):\n",
    "    result=list(set(abcd))\n",
    "    return result\n",
    "\n",
    "result=set_list(a)\n",
    "print(result)"
   ]
  },
  {
   "cell_type": "code",
   "execution_count": 91,
   "metadata": {},
   "outputs": [
    {
     "name": "stdout",
     "output_type": "stream",
     "text": [
      "python\n",
      "java\n"
     ]
    }
   ],
   "source": [
    "def str_length(a,b):\n",
    "    if len(a)>=len(b):\n",
    "        return a\n",
    "    else:\n",
    "        return b\n",
    "\n",
    "print(str_length('test','python'))\n",
    "print(str_length('java','test'))"
   ]
  },
  {
   "cell_type": "code",
   "execution_count": 92,
   "metadata": {},
   "outputs": [
    {
     "name": "stdout",
     "output_type": "stream",
     "text": [
      "python\n",
      "java\n"
     ]
    }
   ],
   "source": [
    "def str_len(a,b):\n",
    "    return a if len(a)>=len(b) else b\n",
    "print(str_length('test','python'))\n",
    "print(str_length('java','test'))"
   ]
  }
 ],
 "metadata": {
  "kernelspec": {
   "display_name": "Python 3",
   "language": "python",
   "name": "python3"
  },
  "language_info": {
   "codemirror_mode": {
    "name": "ipython",
    "version": 3
   },
   "file_extension": ".py",
   "mimetype": "text/x-python",
   "name": "python",
   "nbconvert_exporter": "python",
   "pygments_lexer": "ipython3",
   "version": "3.8.5"
  }
 },
 "nbformat": 4,
 "nbformat_minor": 1
}
