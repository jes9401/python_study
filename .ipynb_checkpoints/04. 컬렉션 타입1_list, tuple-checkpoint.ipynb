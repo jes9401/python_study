{
 "cells": [
  {
   "cell_type": "markdown",
   "metadata": {},
   "source": [
    "## 학습목표\n",
    " 1. list, tuple에 대해 이해하고 사용할 수 있다. \n"
   ]
  },
  {
   "cell_type": "markdown",
   "metadata": {},
   "source": [
    "### **리스트와 튜플**\n",
    " * 복수개의 값을 담을 수 있는 데이터 구조이다.\n",
    " * 실생활에서 사용하는 리스트와 동일한 의미로 이해하면 된다. ex)수강생리스트 등.\n",
    " * list - mutable    (생성된 후에 변경 가능)  \n",
    " * tuple - immutable (생성된 후에 변경 불가능)  "
   ]
  },
  {
   "cell_type": "markdown",
   "metadata": {},
   "source": [
    "#### **리스트 초기화**\n",
    " - [] 안에 값을 담아서 생성한다.\n",
    " - list() 함수로 생성한다.\n",
    " - str.split()함수로 생성한다.\n",
    " \n",
    " ##### 빈리스트 만들기 \n",
    " \n",
    " ```\n",
    "리스트 = []\n",
    "리스트 = list()\n",
    " ```"
   ]
  },
  {
   "cell_type": "code",
   "execution_count": 5,
   "metadata": {},
   "outputs": [
    {
     "name": "stdout",
     "output_type": "stream",
     "text": [
      "<class 'list'>\n",
      "[]\n"
     ]
    }
   ],
   "source": [
    "a=[]\n",
    "print(type(a))\n",
    "print(a)"
   ]
  },
  {
   "cell_type": "code",
   "execution_count": 3,
   "metadata": {},
   "outputs": [
    {
     "data": {
      "text/plain": [
       "list"
      ]
     },
     "execution_count": 3,
     "metadata": {},
     "output_type": "execute_result"
    }
   ],
   "source": [
    "a=list()\n",
    "type(a)"
   ]
  },
  {
   "cell_type": "code",
   "execution_count": 9,
   "metadata": {},
   "outputs": [
    {
     "name": "stdout",
     "output_type": "stream",
     "text": [
      "['1', '2', '3']\n"
     ]
    },
    {
     "data": {
      "text/plain": [
       "list"
      ]
     },
     "execution_count": 9,
     "metadata": {},
     "output_type": "execute_result"
    }
   ],
   "source": [
    "string=\"1 2 3\"\n",
    "a=string.split()\n",
    "print(a)\n",
    "type(a)"
   ]
  },
  {
   "cell_type": "markdown",
   "metadata": {},
   "source": [
    "* **list() 함수**\n",
    " + 다른 데이터 타입을 리스트로 변환할 때도 사용한다."
   ]
  },
  {
   "cell_type": "code",
   "execution_count": 12,
   "metadata": {},
   "outputs": [
    {
     "name": "stdout",
     "output_type": "stream",
     "text": [
      "(1, 2, 3)\n",
      "<class 'tuple'>\n",
      "[1, 2, 3]\n",
      "<class 'list'>\n",
      "hello world\n",
      "<class 'str'>\n",
      "['h', 'e', 'l', 'l', 'o', ' ', 'w', 'o', 'r', 'l', 'd']\n",
      "<class 'list'>\n"
     ]
    }
   ],
   "source": [
    "a=(1,2,3)\n",
    "print(a)\n",
    "print(type(a))\n",
    "a=list(a)\n",
    "print(a)\n",
    "print(type(a))\n",
    "\n",
    "s=\"hello world\"\n",
    "print(s)\n",
    "print(type(s))\n",
    "s=list(s)\n",
    "print(s)\n",
    "print(type(s))\n"
   ]
  },
  {
   "cell_type": "markdown",
   "metadata": {},
   "source": [
    "+ **string split 함수**\n",
    " * 구분자로 구분되는 리스트를 반환한다. "
   ]
  },
  {
   "cell_type": "code",
   "execution_count": 19,
   "metadata": {},
   "outputs": [
    {
     "name": "stdout",
     "output_type": "stream",
     "text": [
      "['1', '2', '3', '4', '5']\n"
     ]
    },
    {
     "data": {
      "text/plain": [
       "list"
      ]
     },
     "execution_count": 19,
     "metadata": {},
     "output_type": "execute_result"
    }
   ],
   "source": [
    "a=\"1,2,3,4,5\"\n",
    "list_a=a.split(\",\")\n",
    "print(list_a)\n",
    "type(list_a)"
   ]
  },
  {
   "cell_type": "markdown",
   "metadata": {},
   "source": [
    "#### **리스트 indexing**\n",
    " * 문자열의 인덱싱과 동일하게 동작한다.\n",
    " * [] 연산자를 이용하여 항목 얻어오기\n",
    " * [i] - i번째 원소를 반환\n",
    " * i가 음수인 경우도 가능하며 마지막원소가 -1로 하여 앞으로 갈때마다 1씩 감소함"
   ]
  },
  {
   "cell_type": "code",
   "execution_count": 22,
   "metadata": {},
   "outputs": [
    {
     "name": "stdout",
     "output_type": "stream",
     "text": [
      "['1', '2', '3', '4']\n",
      "3\n",
      "['5', '4', '3', '2', '1']\n"
     ]
    }
   ],
   "source": [
    "print(list_a[:-1])\n",
    "print(list_a[2])\n",
    "print(list_a[::-1])"
   ]
  },
  {
   "cell_type": "markdown",
   "metadata": {},
   "source": [
    "#### **리스트 개별 아이템에 접근**\n",
    " - 인덱스에 접근하여 값을 업데이트 가능"
   ]
  },
  {
   "cell_type": "code",
   "execution_count": 23,
   "metadata": {},
   "outputs": [
    {
     "name": "stdout",
     "output_type": "stream",
     "text": [
      "['1', '2', '3', '4', '5']\n",
      "[100, '2', '3', '4', '5']\n"
     ]
    }
   ],
   "source": [
    "print(list_a)\n",
    "list_a[0]=100\n",
    "print(list_a)"
   ]
  },
  {
   "cell_type": "code",
   "execution_count": 35,
   "metadata": {},
   "outputs": [
    {
     "name": "stdout",
     "output_type": "stream",
     "text": [
      "['h', 'e', 'l', 'l', 'o']\n",
      "['h', 'e', 'l']\n"
     ]
    }
   ],
   "source": [
    "a=\"hello\"\n",
    "list_a=list(a)\n",
    "print(list_a)\n",
    "c=list_a[:3]\n",
    "print(c)"
   ]
  },
  {
   "cell_type": "markdown",
   "metadata": {},
   "source": [
    "#### **리스트 slicing**\n",
    " - 문자열 슬라이싱과 동일하게 동작한다.\n",
    " - 슬라이싱의 결과 역시 list 이다."
   ]
  },
  {
   "cell_type": "code",
   "execution_count": 40,
   "metadata": {},
   "outputs": [
    {
     "name": "stdout",
     "output_type": "stream",
     "text": [
      "[4, 5, 6, 7, 8, 9]\n",
      "[1, 3, 5, 7, 9]\n",
      "[9, 7, 5, 3, 1]\n",
      "[9, 8, 7, 6, 5, 4, 3, 2, 1]\n"
     ]
    }
   ],
   "source": [
    "a=[1,2,3,4,5,6,7,8,9]\n",
    "print(a[3:])\n",
    "print(a[::2])\n",
    "print(a[::-2])\n",
    "print(a[-1::-1])"
   ]
  },
  {
   "cell_type": "markdown",
   "metadata": {},
   "source": [
    "#### list 멤버 함수"
   ]
  },
  {
   "cell_type": "markdown",
   "metadata": {},
   "source": [
    "* **append()**\n",
    " + 리스트의 끝에 항목을 추가한다."
   ]
  },
  {
   "cell_type": "code",
   "execution_count": 55,
   "metadata": {},
   "outputs": [
    {
     "name": "stdout",
     "output_type": "stream",
     "text": [
      "[1, 2, 3, 4, 5]\n",
      "[1, 2, 3, 4, 5, 6]\n",
      "[1, 2, 3, 4, 5, 6, [7, 8]]\n",
      "[1, 2, 3, 4, 5, 6, [7, 8], '9']\n",
      "[1, 2, 3, 4, 5, 6, [7, 8], '9', [9, 8, 7]]\n"
     ]
    }
   ],
   "source": [
    "a=[1,2,3,4,5]\n",
    "b=[9,8,7]\n",
    "print(a)\n",
    "a.append(6)\n",
    "print(a)\n",
    "a.append([7,8])\n",
    "print(a)\n",
    "a.append(\"9\")\n",
    "print(a)\n",
    "a.append(b)\n",
    "print(a)"
   ]
  },
  {
   "cell_type": "markdown",
   "metadata": {},
   "source": [
    "+ **extend()**\n",
    " * 리스트를 연장한다.\n",
    " * += 로도 가능하다."
   ]
  },
  {
   "cell_type": "code",
   "execution_count": 56,
   "metadata": {},
   "outputs": [
    {
     "name": "stdout",
     "output_type": "stream",
     "text": [
      "[1, 2, 3]\n",
      "[1, 2, 3, 3]\n",
      "[1, 2, 3, 3, 4, 5]\n",
      "[1, 2, 3, 3, 4, 5, '6']\n",
      "[1, 2, 3, 3, 4, 5, '6', 9, 8, 7]\n",
      "[1, 2, 3, 3, 4, 5, '6', 9, 8, 7, 9, 8, 7]\n"
     ]
    }
   ],
   "source": [
    "a=[1,2,3]\n",
    "b=[9,8,7]\n",
    "print(a)\n",
    "\n",
    "a.extend([3])\n",
    "print(a)\n",
    "\n",
    "a.extend([4,5])\n",
    "print(a)\n",
    "\n",
    "a.extend(\"6\")\n",
    "print(a)\n",
    "\n",
    "a.extend(b)\n",
    "print(a)\n",
    "\n",
    "a+=b\n",
    "print(a)"
   ]
  },
  {
   "cell_type": "markdown",
   "metadata": {},
   "source": [
    "+ **insert()로 항목추가**\n",
    " * 리스트의 원하는 위치에 추가 가능하다.\n",
    " * 앞에 인덱스를, 뒤에 아이템을 명시한다."
   ]
  },
  {
   "cell_type": "code",
   "execution_count": 80,
   "metadata": {},
   "outputs": [
    {
     "name": "stdout",
     "output_type": "stream",
     "text": [
      "[1, 2, 3]\n",
      "[1, 2, 3, 4]\n",
      "[1, 2, 3, 4, 20]\n",
      "[1, 2, 3, 4, 20, 30]\n"
     ]
    }
   ],
   "source": [
    "a=[1,2,3]\n",
    "print(a)\n",
    "a.insert(3,4)\n",
    "print(a)\n",
    "a.insert(4,20)\n",
    "print(a)\n",
    "a.insert(10,30)\n",
    "print(a)\n",
    "\n",
    "# 인덱스 인자가 리스트 크기보다 크면 제일 마지막에 추가"
   ]
  },
  {
   "cell_type": "markdown",
   "metadata": {},
   "source": [
    "+ **remove()**\n",
    " * 값으로 항목 삭제한다."
   ]
  },
  {
   "cell_type": "code",
   "execution_count": 99,
   "metadata": {},
   "outputs": [
    {
     "name": "stdout",
     "output_type": "stream",
     "text": [
      "[2, 3, 4, 5, 1, 4, 3, 2]\n",
      "[3, 4, 5, 1, 4, 3, 2]\n",
      "[4, 5, 1, 4, 3, 2]\n",
      "None\n",
      "[4, 5, 1, 4, 3]\n"
     ]
    }
   ],
   "source": [
    "a=[2,3,4,5,1,4,3,2]\n",
    "print(a)\n",
    "a.remove(2)\n",
    "print(a)\n",
    "a.remove(3)\n",
    "print(a)\n",
    "print(a.remove(2)) #지우지만 반환 x \n",
    "print(a)\n",
    "# 제일 먼저 나오는 값만 삭제"
   ]
  },
  {
   "cell_type": "markdown",
   "metadata": {},
   "source": [
    "+ **pop()**\n",
    "  - 지우고자 하는 아이템을 반환 후, 삭제한다."
   ]
  },
  {
   "cell_type": "code",
   "execution_count": 101,
   "metadata": {},
   "outputs": [
    {
     "name": "stdout",
     "output_type": "stream",
     "text": [
      "[1, 2, 3, 4, 5, 5]\n",
      "[1, 2, 4, 5, 5]\n",
      "5\n",
      "[1, 2, 4, 5]\n"
     ]
    }
   ],
   "source": [
    "b=[1,2,3,4,5,5,6]\n",
    "b.pop()\n",
    "print(b)\n",
    "\n",
    "b.pop(2) #2번째 인덱스\n",
    "print(b)\n",
    "\n",
    "print(b.pop(3)) #반환\n",
    "print(b)\n",
    "\n",
    "# 인자값 미지정 시 마지막 인덱스 반환 후 삭제"
   ]
  },
  {
   "cell_type": "markdown",
   "metadata": {},
   "source": [
    "+ **index()**\n",
    " * 찾고자 하는 값의 인덱스 반환한다."
   ]
  },
  {
   "cell_type": "code",
   "execution_count": 106,
   "metadata": {},
   "outputs": [
    {
     "data": {
      "text/plain": [
       "1"
      ]
     },
     "execution_count": 106,
     "metadata": {},
     "output_type": "execute_result"
    }
   ],
   "source": [
    "aa=[1,22,31,43,54,65]\n",
    "aa.index(1) #1은 0번째 인덱스\n",
    "aa.index(22) #22는 1번째 인덱스 "
   ]
  },
  {
   "cell_type": "markdown",
   "metadata": {},
   "source": [
    "* **in 키워드**\n",
    " + 리스트 내에 해당 값이 존재하는지 확인한다.\n",
    " + value in [list]\n",
    " + True, False 중 한가지로 반환한다. "
   ]
  },
  {
   "cell_type": "code",
   "execution_count": 125,
   "metadata": {},
   "outputs": [
    {
     "name": "stdout",
     "output_type": "stream",
     "text": [
      "True\n",
      "False\n"
     ]
    },
    {
     "data": {
      "text/plain": [
       "False"
      ]
     },
     "execution_count": 125,
     "metadata": {},
     "output_type": "execute_result"
    }
   ],
   "source": [
    "a=[9,5,4,2,1]\n",
    "print(9 in a)\n",
    "print(10 in a)\n",
    "b in a"
   ]
  },
  {
   "cell_type": "markdown",
   "metadata": {},
   "source": [
    "* **list 정렬**\n",
    " + sort() -> 리스트 자체를 내부적으로 정렬한다.\n",
    " + sorted() -> 리스트의 정렬된 복사본을 반환한다."
   ]
  },
  {
   "cell_type": "code",
   "execution_count": 138,
   "metadata": {},
   "outputs": [
    {
     "name": "stdout",
     "output_type": "stream",
     "text": [
      "[1, 2, 3, 4, 5]\n",
      "[5, 4, 3, 2, 1]\n",
      "[3, 4, 2, 1, 5]\n",
      "[1, 2, 3, 4, 5]\n"
     ]
    }
   ],
   "source": [
    "a=[4,5,3,2,1]\n",
    "b=[2,3,1,4,5]\n",
    "c=[3,4,2,1,5]\n",
    "a.sort()\n",
    "print(a)\n",
    "b.sort(reverse=True) #역정렬\n",
    "print(b)\n",
    "d=sorted(c) #정렬된 리스트 반환\n",
    "print(c)\n",
    "print(d)"
   ]
  },
  {
   "cell_type": "code",
   "execution_count": 140,
   "metadata": {},
   "outputs": [
    {
     "name": "stdout",
     "output_type": "stream",
     "text": [
      "5\n",
      "1\n"
     ]
    }
   ],
   "source": [
    "print(max(a))\n",
    "print(min(a))"
   ]
  },
  {
   "cell_type": "markdown",
   "metadata": {},
   "source": [
    "* **range를 사용하여 리스트 만들기**\n",
    "  + range(횟수)\n",
    "  + 리스트 = list(range(횟수))\n",
    "  + 리스트 = list(range(시작, 끝))\n",
    "  + 리스트 = list(range(시작, 끝, 증가폭))"
   ]
  },
  {
   "cell_type": "code",
   "execution_count": 152,
   "metadata": {},
   "outputs": [
    {
     "name": "stdout",
     "output_type": "stream",
     "text": [
      "[0, 1, 2, 3, 4, 5, 6, 7, 8, 9]\n"
     ]
    }
   ],
   "source": [
    "a= list(range(10))\n",
    "print(a)"
   ]
  },
  {
   "cell_type": "code",
   "execution_count": 149,
   "metadata": {},
   "outputs": [
    {
     "data": {
      "text/plain": [
       "[0, 1, 2, 3, 4]"
      ]
     },
     "execution_count": 149,
     "metadata": {},
     "output_type": "execute_result"
    }
   ],
   "source": [
    "list(range(5))"
   ]
  },
  {
   "cell_type": "code",
   "execution_count": 150,
   "metadata": {},
   "outputs": [
    {
     "data": {
      "text/plain": [
       "[1, 2, 3, 4, 5, 6, 7, 8, 9]"
      ]
     },
     "execution_count": 150,
     "metadata": {},
     "output_type": "execute_result"
    }
   ],
   "source": [
    "list(range(1,10))"
   ]
  },
  {
   "cell_type": "code",
   "execution_count": 151,
   "metadata": {},
   "outputs": [
    {
     "data": {
      "text/plain": [
       "[1, 11, 21, 31, 41, 51, 61, 71, 81, 91]"
      ]
     },
     "execution_count": 151,
     "metadata": {},
     "output_type": "execute_result"
    }
   ],
   "source": [
    "list(range(1,100,10))"
   ]
  },
  {
   "cell_type": "code",
   "execution_count": 153,
   "metadata": {},
   "outputs": [
    {
     "name": "stdout",
     "output_type": "stream",
     "text": [
      "[1, 3, 5, 7, 9]\n",
      "[0, 0, 0, 0, 0, 0, 0, 0, 0, 0]\n",
      "[[0], [0, 0], [0, 0, 0], [0, 0, 0, 0], [0, 0, 0, 0, 0]]\n"
     ]
    }
   ],
   "source": [
    "b= [x for x in range(1,10,2)]\n",
    "print(b)\n",
    "c=[0 for i in range(10)]\n",
    "print(c)\n",
    "d= [[0]*i for i in range(1,6)]\n",
    "print(d)"
   ]
  },
  {
   "cell_type": "markdown",
   "metadata": {},
   "source": [
    "### **tuple**\n",
    " - 리스트와 같이 복수개의 값을 갖는 컬렉션 타입이다. \n",
    " - 생성된 후 변경이 불가능하다. \n",
    " - 읽기전용 리스트이다. \n",
    " \n",
    " \n",
    "   + 튜플 = (값,값,값)\n",
    "   + 튜플 = 값, 값, 값\n",
    "   + 튜플 = (값,) - 요소가 하나일 때 튜플로 지정하려면 , 를 붙혀준다. \n",
    "   + 튜플 = 값, "
   ]
  },
  {
   "cell_type": "code",
   "execution_count": 159,
   "metadata": {},
   "outputs": [
    {
     "name": "stdout",
     "output_type": "stream",
     "text": [
      "(1, 2, 3)\n",
      "<class 'tuple'>\n"
     ]
    }
   ],
   "source": [
    "a=(1,2,3)\n",
    "print(a)\n",
    "print(type(a))"
   ]
  },
  {
   "cell_type": "code",
   "execution_count": 158,
   "metadata": {},
   "outputs": [
    {
     "name": "stdout",
     "output_type": "stream",
     "text": [
      "(1, 2, 3)\n",
      "<class 'tuple'>\n"
     ]
    }
   ],
   "source": [
    "a=1,2,3\n",
    "print(a)\n",
    "print(type(a))"
   ]
  },
  {
   "cell_type": "code",
   "execution_count": 160,
   "metadata": {},
   "outputs": [
    {
     "name": "stdout",
     "output_type": "stream",
     "text": [
      "(1,)\n",
      "<class 'tuple'>\n"
     ]
    }
   ],
   "source": [
    "a=(1,)\n",
    "print(a)\n",
    "print(type(a))"
   ]
  },
  {
   "cell_type": "code",
   "execution_count": 161,
   "metadata": {},
   "outputs": [
    {
     "name": "stdout",
     "output_type": "stream",
     "text": [
      "(1,)\n",
      "<class 'tuple'>\n"
     ]
    }
   ],
   "source": [
    "a=1,\n",
    "print(a)\n",
    "print(type(a))"
   ]
  },
  {
   "cell_type": "code",
   "execution_count": 169,
   "metadata": {},
   "outputs": [
    {
     "name": "stdout",
     "output_type": "stream",
     "text": [
      "()\n",
      "<class 'tuple'>\n",
      "()\n",
      "<class 'tuple'>\n"
     ]
    }
   ],
   "source": [
    "t=()\n",
    "print(t)\n",
    "print(type(t))\n",
    "\n",
    "tt=tuple()\n",
    "print(tt)\n",
    "print(type(tt))"
   ]
  },
  {
   "cell_type": "code",
   "execution_count": 164,
   "metadata": {},
   "outputs": [
    {
     "name": "stdout",
     "output_type": "stream",
     "text": [
      "(0, 1, 2, 3, 4, 5, 6, 7, 8, 9)\n",
      "<class 'tuple'>\n",
      "(1, 2, 3, 4, 5, 6, 7, 8, 9)\n",
      "<class 'tuple'>\n",
      "(1, 11, 21, 31, 41, 51, 61, 71, 81, 91)\n",
      "<class 'tuple'>\n"
     ]
    }
   ],
   "source": [
    "# range를 이용하여 tuple만들기 - 리스트와 동일하다. \n",
    "a=tuple(range(10))\n",
    "print(a)\n",
    "print(type(a))\n",
    "\n",
    "a=tuple(range(1,10))\n",
    "print(a)\n",
    "print(type(a))\n",
    "\n",
    "a=tuple(range(1,100,10))\n",
    "print(a)\n",
    "print(type(a))"
   ]
  },
  {
   "cell_type": "code",
   "execution_count": 170,
   "metadata": {},
   "outputs": [
    {
     "name": "stdout",
     "output_type": "stream",
     "text": [
      "<class 'tuple'>\n",
      "<class 'tuple'>\n"
     ]
    }
   ],
   "source": [
    "# 요소가 한개인 튜플은 어떻게 만들까??    값뒤에 , 붙혀줌. \n",
    "t=1,\n",
    "tt=(1,)\n",
    "print(type(t))\n",
    "print(type(tt))"
   ]
  },
  {
   "cell_type": "markdown",
   "metadata": {},
   "source": [
    "#### **튜플을 리스트로 리스트를 튜플로 만들기**\n"
   ]
  },
  {
   "cell_type": "code",
   "execution_count": 166,
   "metadata": {
    "scrolled": true
   },
   "outputs": [
    {
     "name": "stdout",
     "output_type": "stream",
     "text": [
      "<class 'tuple'>\n",
      "[1, 2, 3]\n",
      "<class 'list'>\n"
     ]
    }
   ],
   "source": [
    "a=(1,2,3)\n",
    "print(a)\n",
    "print(type(a))\n",
    "a=list(a)\n",
    "print(a)\n",
    "print(type(a))"
   ]
  },
  {
   "cell_type": "code",
   "execution_count": 167,
   "metadata": {},
   "outputs": [
    {
     "name": "stdout",
     "output_type": "stream",
     "text": [
      "[1, 2, 3]\n",
      "<class 'list'>\n",
      "(1, 2, 3)\n",
      "<class 'tuple'>\n"
     ]
    }
   ],
   "source": [
    "a=[1,2,3]\n",
    "print(a)\n",
    "print(type(a))\n",
    "a=tuple(a)\n",
    "print(a)\n",
    "print(type(a))"
   ]
  },
  {
   "cell_type": "code",
   "execution_count": null,
   "metadata": {},
   "outputs": [],
   "source": []
  },
  {
   "cell_type": "markdown",
   "metadata": {},
   "source": [
    "#### **list unpacking, tuple unpacking**\n",
    " - 리스트나 튜플의 값을 차례대로 변수에 대입한다.\n",
    " \n",
    " ```\n",
    " x = [1, 2, 3]\n",
    " a, b, c = x\n",
    " y = (4, 5, 6)\n",
    " d, e, f = y\n",
    " ```\n",
    " \n",
    " \n",
    "#### **list packing, tuple packing**\n",
    "  - 변수에 리스트나 튜플을 할당하는 과정을 뜻한다.  \n",
    "  - a = [1,2,3] \n",
    "  - a = (1,2,3)\n",
    "  - a = 1,2,3"
   ]
  },
  {
   "cell_type": "code",
   "execution_count": 183,
   "metadata": {},
   "outputs": [
    {
     "name": "stdout",
     "output_type": "stream",
     "text": [
      "10 20 30 40\n",
      "40 50 60\n"
     ]
    }
   ],
   "source": [
    "x=[10,20,30,40]\n",
    "a,b,c,z=x\n",
    "print(a,b,c,z)\n",
    "y=(40,50,60)\n",
    "d,e,f=y\n",
    "print(d,e,f,)"
   ]
  },
  {
   "cell_type": "markdown",
   "metadata": {},
   "source": [
    "* **연습문제** a와 b의 값을 교환하시오"
   ]
  },
  {
   "cell_type": "code",
   "execution_count": 190,
   "metadata": {},
   "outputs": [
    {
     "name": "stdout",
     "output_type": "stream",
     "text": [
      "5 4\n",
      "4 5\n",
      "5 4\n",
      "4 5\n"
     ]
    }
   ],
   "source": [
    "a = 5\n",
    "b = 4\n",
    "\n",
    "print(a, b)\n",
    "\n",
    "#여기에 구현\n",
    "a,b=b,a\n",
    "print(a,b)\n",
    "\n",
    "t=a,b\n",
    "b,a=t\n",
    "\n",
    "print(a, b)\n",
    "\n",
    "temp=a\n",
    "a=b\n",
    "b=temp\n",
    "print(a,b)\n"
   ]
  },
  {
   "cell_type": "markdown",
   "metadata": {},
   "source": [
    "### 시퀀스 자료형 \n",
    "\n",
    "- 값이 연속적으로 이어져 있는 자료형을 말한다. \n",
    "- 리스트, 튜플, range, 문자열 등이 시퀀스 자료형에 해당한다. \n",
    "\n",
    "#### 시퀀스객체안에 원하는 값 확인하기 \n",
    "- 값이 있는지 확인 할때는 아래와 같이 in 을 이용한다. \n",
    "    - 값 in 시퀀스 객체 \n",
    "- in 앞에 not을 붙히면 반대로 값이 없는지 확인한다. \n",
    "    - 값 not in 시퀀스객체"
   ]
  },
  {
   "cell_type": "code",
   "execution_count": 212,
   "metadata": {},
   "outputs": [
    {
     "name": "stdout",
     "output_type": "stream",
     "text": [
      "True\n",
      "False\n",
      "True\n"
     ]
    },
    {
     "data": {
      "text/plain": [
       "False"
      ]
     },
     "execution_count": 212,
     "metadata": {},
     "output_type": "execute_result"
    }
   ],
   "source": [
    "s=\"hi hello\"\n",
    "print('hi h' in s)\n",
    "print('hi' not in s)\n",
    "print('ih' not in s)\n",
    "\n",
    "10 in range(10)"
   ]
  },
  {
   "cell_type": "markdown",
   "metadata": {},
   "source": [
    "#### 시퀀스 객체 연결 \n",
    "\n",
    "- + 연산자를 이용하여 객체를 서로 연결해서 새 객체를 만든다. \n",
    "    - 시퀀스객체1 + 시퀀스객체2\n",
    "- 단, range는 리스트나 튜플을 만든 후 연결해야 한다. \n",
    "- 문자열은 + 연산자를 이용하여 문자열을 연결할 수 있다."
   ]
  },
  {
   "cell_type": "code",
   "execution_count": 213,
   "metadata": {},
   "outputs": [
    {
     "data": {
      "text/plain": [
       "[1, 2, 3, 4, 5, 6]"
      ]
     },
     "execution_count": 213,
     "metadata": {},
     "output_type": "execute_result"
    }
   ],
   "source": [
    "a=[1,2,3]\n",
    "b=[4,5,6]\n",
    "a+b"
   ]
  },
  {
   "cell_type": "code",
   "execution_count": 214,
   "metadata": {},
   "outputs": [
    {
     "name": "stdout",
     "output_type": "stream",
     "text": [
      "[0, 1, 2, 3, 4, 5, 6, 7, 8, 9, 10, 11, 12, 13, 14, 15, 16, 17, 18, 19]\n"
     ]
    },
    {
     "data": {
      "text/plain": [
       "'abccde'"
      ]
     },
     "execution_count": 214,
     "metadata": {},
     "output_type": "execute_result"
    }
   ],
   "source": [
    "# range(10) + range(11,5)   range 자체로 + 연산은 불가하다.\n",
    "# range를 이용해서 리스트나 튜플 생성후 연결\n",
    "# 리스트+리스트, 튜플+튜플 가능\n",
    "a=list(range(10))\n",
    "b=list(range(10,20))\n",
    "print(a+b)"
   ]
  },
  {
   "cell_type": "code",
   "execution_count": 215,
   "metadata": {},
   "outputs": [
    {
     "data": {
      "text/plain": [
       "'abccde'"
      ]
     },
     "execution_count": 215,
     "metadata": {},
     "output_type": "execute_result"
    }
   ],
   "source": [
    "a=\"abc\"\n",
    "b=\"cde\"\n",
    "a+b"
   ]
  },
  {
   "cell_type": "markdown",
   "metadata": {},
   "source": [
    "#### 시퀀스객체 반복하기\n",
    "\n",
    "- * 연산자를 이용하면 시퀀스 객체를 원하는 횟수만큼 반복할 수 있다. \n",
    "- 0 또는 음수를 곱하면 빈 객체가 나온다.  실수는 곱할 수 없다. \n",
    "\n",
    "    - 시퀀스객체 * 정수 \n",
    "    - 정수 * 시퀀스객체\n",
    "- range는 * 연산자를 사용할 수 없다.\n",
    "- 문자열은 * 연산자 사용이 가능하다. "
   ]
  },
  {
   "cell_type": "code",
   "execution_count": 222,
   "metadata": {},
   "outputs": [
    {
     "name": "stdout",
     "output_type": "stream",
     "text": [
      "[1, 2, 3, 4, 1, 2, 3, 4]\n",
      "abcabc defdef\n",
      "[0, 1, 2, 3, 4, 5, 6, 7, 8, 9, 0, 1, 2, 3, 4, 5, 6, 7, 8, 9]\n"
     ]
    }
   ],
   "source": [
    "a=[1,2,3,4]\n",
    "print(a*2)\n",
    "b=\"abc\"\n",
    "c=\"def\"\n",
    "print(b*2, c*2)\n",
    "\n",
    "# range(10)*2  에러\n",
    "print(list(range(10))*2)"
   ]
  },
  {
   "cell_type": "code",
   "execution_count": null,
   "metadata": {},
   "outputs": [],
   "source": []
  },
  {
   "cell_type": "markdown",
   "metadata": {},
   "source": [
    "#### len() 함수 이용해서 개수 구하기\n",
    "\n",
    "- len(리스트)\n",
    "- len(튜플)\n",
    "- len(문자열)\n",
    "- len(range())"
   ]
  },
  {
   "cell_type": "code",
   "execution_count": 226,
   "metadata": {},
   "outputs": [
    {
     "name": "stdout",
     "output_type": "stream",
     "text": [
      "5\n",
      "7\n",
      "5\n",
      "5\n"
     ]
    }
   ],
   "source": [
    "list_a=[0,4,1,2,3]\n",
    "tuple_a=4,3,2,3,4,1,5\n",
    "str_a=\"안녕하세요\"\n",
    "print(len(list_a))\n",
    "print(len(tuple_a))\n",
    "print(len(str_a))\n",
    "print(len(range(5)))"
   ]
  },
  {
   "cell_type": "code",
   "execution_count": 1,
   "metadata": {},
   "outputs": [
    {
     "name": "stdout",
     "output_type": "stream",
     "text": [
      "[1, 3]\n"
     ]
    },
    {
     "ename": "NameError",
     "evalue": "name 'a' is not defined",
     "output_type": "error",
     "traceback": [
      "\u001b[1;31m---------------------------------------------------------------------------\u001b[0m",
      "\u001b[1;31mNameError\u001b[0m                                 Traceback (most recent call last)",
      "\u001b[1;32m<ipython-input-1-59c26d2a6f36>\u001b[0m in \u001b[0;36m<module>\u001b[1;34m\u001b[0m\n\u001b[0;32m      4\u001b[0m \u001b[1;33m\u001b[0m\u001b[0m\n\u001b[0;32m      5\u001b[0m \u001b[1;32mdel\u001b[0m \u001b[0ma\u001b[0m \u001b[1;31m#a라는 변수 제거\u001b[0m\u001b[1;33m\u001b[0m\u001b[1;33m\u001b[0m\u001b[0m\n\u001b[1;32m----> 6\u001b[1;33m \u001b[0mprint\u001b[0m\u001b[1;33m(\u001b[0m\u001b[0ma\u001b[0m\u001b[1;33m)\u001b[0m\u001b[1;33m\u001b[0m\u001b[1;33m\u001b[0m\u001b[0m\n\u001b[0m",
      "\u001b[1;31mNameError\u001b[0m: name 'a' is not defined"
     ]
    }
   ],
   "source": [
    "a=[1,2,3]\n",
    "del a[1] #a의 1번째 인덱스 제거\n",
    "print(a)\n",
    "\n",
    "del a #a라는 변수 제거\n",
    "print(a)"
   ]
  },
  {
   "cell_type": "markdown",
   "metadata": {},
   "source": [
    "<h4>리스트 복사하기"
   ]
  },
  {
   "cell_type": "code",
   "execution_count": 4,
   "metadata": {},
   "outputs": [
    {
     "name": "stdout",
     "output_type": "stream",
     "text": [
      "[10, 2, 3, 4, 5]\n",
      "[10, 2, 3, 4, 5]\n",
      "140725263804480\n",
      "140725263804480\n"
     ]
    }
   ],
   "source": [
    "list_a=[1,2,3,4,5]\n",
    "list_b=list_a\n",
    "\n",
    "list_b[0]=10\n",
    "print(list_a)\n",
    "print(list_b)\n",
    "\n",
    "print(id(list_a[0]))\n",
    "print(id(list_b[0]))\n",
    "\n"
   ]
  },
  {
   "cell_type": "markdown",
   "metadata": {},
   "source": [
    "<h4>copy 함수 사용"
   ]
  },
  {
   "cell_type": "code",
   "execution_count": 5,
   "metadata": {},
   "outputs": [
    {
     "name": "stdout",
     "output_type": "stream",
     "text": [
      "[1, 2, 3, 4, 5]\n",
      "[10, 2, 3, 4, 5]\n",
      "140725263804192\n",
      "140725263804480\n"
     ]
    }
   ],
   "source": [
    "a=[1,2,3,4,5]\n",
    "b=a.copy()\n",
    "\n",
    "b[0]=10\n",
    "print(a)\n",
    "print(b)\n",
    "print(id(a[0]))\n",
    "print(id(b[0]))"
   ]
  },
  {
   "cell_type": "markdown",
   "metadata": {},
   "source": [
    "#### deepcopy 사용"
   ]
  },
  {
   "cell_type": "code",
   "execution_count": 7,
   "metadata": {},
   "outputs": [
    {
     "name": "stdout",
     "output_type": "stream",
     "text": [
      "[[10, 2, 3], [4, 5, 6], [7, 8, 9]]\n",
      "[[10, 2, 3], [4, 5, 6], [7, 8, 9]]\n",
      "140725263804480\n",
      "140725263804480\n"
     ]
    }
   ],
   "source": [
    "a=[[1,2,3],[4,5,6],[7,8,9]]\n",
    "b=a.copy()\n",
    "\n",
    "b[0][0]=10\n",
    "print(a)\n",
    "print(b)\n",
    "print(id(a[0][0]))\n",
    "print(id(b[0][0]))"
   ]
  },
  {
   "cell_type": "code",
   "execution_count": 8,
   "metadata": {},
   "outputs": [
    {
     "name": "stdout",
     "output_type": "stream",
     "text": [
      "[[1, 2, 3], [4, 5, 6], [7, 8, 9]]\n",
      "[[10, 2, 3], [4, 5, 6], [7, 8, 9]]\n",
      "140725263804192\n",
      "140725263804480\n"
     ]
    }
   ],
   "source": [
    "import copy\n",
    "a=[[1,2,3],[4,5,6],[7,8,9]]\n",
    "b=copy.deepcopy(a)\n",
    "\n",
    "b[0][0]=10\n",
    "print(a)\n",
    "print(b)\n",
    "print(id(a[0][0]))\n",
    "print(id(b[0][0]))"
   ]
  },
  {
   "cell_type": "code",
   "execution_count": null,
   "metadata": {},
   "outputs": [],
   "source": []
  }
 ],
 "metadata": {
  "kernelspec": {
   "display_name": "Python 3",
   "language": "python",
   "name": "python3"
  },
  "language_info": {
   "codemirror_mode": {
    "name": "ipython",
    "version": 3
   },
   "file_extension": ".py",
   "mimetype": "text/x-python",
   "name": "python",
   "nbconvert_exporter": "python",
   "pygments_lexer": "ipython3",
   "version": "3.8.5"
  }
 },
 "nbformat": 4,
 "nbformat_minor": 1
}
