{
 "cells": [
  {
   "cell_type": "markdown",
   "metadata": {},
   "source": [
    "### 학습목표\n",
    "1. 예외와 예외처리가 무엇인지 이해한다.\n",
    "2. 예외처리 문법 이해하고 활용 할 수 있다. "
   ]
  },
  {
   "cell_type": "markdown",
   "metadata": {},
   "source": [
    "### **예외**\n",
    "\n",
    "– 프로그램이 실행되는 동안 발생할 수 있는 비정상적인 조건  \n",
    "– 번역시의 에러가 아닌 실행시의 에러를 예외라 한다.\n",
    "\n",
    "### ** 파이썬에서의 예외 처리 **\n",
    "\n",
    "#### **try except 사용하기**\n",
    "\n",
    "- 예외 처리를 하려면 try에 실행할 코드를 넣고 except 에 예외가 발생했을 때 처리할 코드를 넣는다.  \n",
    "\n",
    "``` \n",
    "try : \n",
    "    실행할 코드 \n",
    "except:\n",
    "    예외가 발생했을 때 처리하는 코드 \n",
    "``` \n"
   ]
  },
  {
   "cell_type": "code",
   "execution_count": 9,
   "metadata": {},
   "outputs": [
    {
     "name": "stdout",
     "output_type": "stream",
     "text": [
      "숫자를 입력하세요.2\n",
      "5.0\n",
      "다음코드\n",
      "end\n"
     ]
    }
   ],
   "source": [
    "x=int(input('숫자를 입력하세요.'))\n",
    "try:\n",
    "    print(10/x)\n",
    "except:\n",
    "    print(\"0으로 나눌 수 없음, 1로 변경\")\n",
    "    print(10/1)\n",
    "print('다음코드')\n",
    "print('end')\n",
    "    "
   ]
  },
  {
   "cell_type": "markdown",
   "metadata": {},
   "source": [
    "#### **원하는 예외만 처리하기**\n",
    "- except 구문에 예외 이름을 지정하면 지정된 예외가 발생했을 때만 처리한다. \n",
    "\n",
    "```\n",
    "try:\n",
    "    실행할코드\n",
    "except 예외이름:\n",
    "    예외가 발생했을 때 처리하는 코드 \n",
    "```\n",
    "- 예외의 에러 메시지를 받아 올 수 있다. \n",
    "```\n",
    "try:\n",
    "    실행할코드\n",
    "except 예외이름 as 변수:\n",
    "    예외가 발생했을 때 처리하는 코드\n",
    "    print(변수) \n",
    "```\n",
    "\n",
    "- 모든 예외의 에러 메시지를 출력하고 싶다면 Exception을 이용한다. \n",
    "\n",
    "```\n",
    "except Exception as e:    \n",
    "    print('예외가 발생했습니다.', e)\n",
    "```\n",
    "\n",
    "\n",
    "[예외계층](https://docs.python.org/3/library/exceptions.html#exception-hierarchy)"
   ]
  },
  {
   "cell_type": "code",
   "execution_count": 40,
   "metadata": {},
   "outputs": [
    {
     "name": "stdout",
     "output_type": "stream",
     "text": [
      "숫자를 입력하세요.0\n",
      "0으로 나눌 수 없음\n"
     ]
    }
   ],
   "source": [
    "list_a=[10,20,30]\n",
    "try:\n",
    "    x=int(input('숫자를 입력하세요.'))\n",
    "    print(10/x)\n",
    "    print(list_a[x])\n",
    "except ZeroDivisionError:\n",
    "    print('0으로 나눌 수 없음')\n",
    "except IndexError:\n",
    "    print('범위를 벗어남')\n",
    "except ValueError:\n",
    "    print('문자 입력x')"
   ]
  },
  {
   "cell_type": "code",
   "execution_count": 43,
   "metadata": {},
   "outputs": [
    {
     "name": "stdout",
     "output_type": "stream",
     "text": [
      "숫자를 입력하세요.z\n",
      "invalid literal for int() with base 10: 'z'\n"
     ]
    }
   ],
   "source": [
    "list_a=[10,20,30]\n",
    "try:\n",
    "    x=int(input('숫자를 입력하세요.'))\n",
    "    print(10/x)\n",
    "    print(list_a[x])\n",
    "except Exception as e:\n",
    "    print(e)"
   ]
  },
  {
   "cell_type": "code",
   "execution_count": 49,
   "metadata": {},
   "outputs": [
    {
     "name": "stdout",
     "output_type": "stream",
     "text": [
      "True\n",
      "True\n",
      "True\n",
      "False\n"
     ]
    }
   ],
   "source": [
    "class Parent:\n",
    "    pass\n",
    "class Child(Parent):\n",
    "    pass\n",
    "c=Child()\n",
    "print(isinstance(c,Child))\n",
    "print(isinstance(c,Parent))\n",
    "print(isinstance(c,object))\n",
    "print(isinstance(c,Exception))"
   ]
  },
  {
   "cell_type": "markdown",
   "metadata": {},
   "source": [
    "#### **예외가 발생하지 않았을 때 실행하는 else**\n",
    "\n",
    "- else구문은 예외가 발생하지 않았을 때 실행할 구문을 기술한다. \n",
    "- else는 except 바로뒤에 와야한다.\n",
    "- except를 생략 할 수는 없다.\n",
    "- 예외가 발생하면 else 구문은 실행되지 않는다. \n",
    "\n",
    "```\n",
    "try:\n",
    "    실행할 코드\n",
    "except:\n",
    "    예외가 발생했을 때 처리하는 코드\n",
    "else:\n",
    "    예외가 발생하지 않았을 때 실행할 코드\n",
    "```"
   ]
  },
  {
   "cell_type": "code",
   "execution_count": 55,
   "metadata": {},
   "outputs": [
    {
     "name": "stdout",
     "output_type": "stream",
     "text": [
      "숫자를 입력하세요.0\n",
      "division by zero\n"
     ]
    }
   ],
   "source": [
    "list_a=[10,20,30]\n",
    "try:\n",
    "    x=int(input('숫자를 입력하세요.'))\n",
    "    print(10/x)\n",
    "    print(list_a[x])\n",
    "except Exception as e:\n",
    "    print(e)\n",
    "else:\n",
    "    print('예외 발생 x')\n",
    "    "
   ]
  },
  {
   "cell_type": "markdown",
   "metadata": {},
   "source": [
    "#### **반드시 실행되는 finally블록**\n",
    "- 모든 코드가 반드시 실행된다는 보장은 없다. \n",
    "- 하지만, 예외가 발생했든 발생하지 않았든 \n",
    "예외를 적절히 처리했든 처리하지 못했든 간에 반드시 처리해야하는 코드들이 있다. \n",
    "- finally 블록은 언제든지 실행된다. \n",
    "- finally는 except와 else를 생략할 수 있다.\n",
    "\n",
    "```\n",
    "try:\n",
    "    실행할 코드\n",
    "except:\n",
    "    예외가 발생했을 때 처리하는 코드\n",
    "else:\n",
    "    예외가 발생하지 않았을 때 실행할 코드\n",
    "finally:\n",
    "    예외 발생 여부와 상관없이 항상 실행할 코드\n",
    "```\n",
    "\n",
    "\n"
   ]
  },
  {
   "cell_type": "code",
   "execution_count": 59,
   "metadata": {},
   "outputs": [
    {
     "name": "stdout",
     "output_type": "stream",
     "text": [
      "숫자를 입력하세요.2\n",
      "5.0\n",
      "30\n",
      "예외 발생 x\n",
      "항상 실행\n"
     ]
    }
   ],
   "source": [
    "list_a=[10,20,30]\n",
    "try:\n",
    "    x=int(input('숫자를 입력하세요.'))\n",
    "    print(10/x)\n",
    "    print(list_a[x])\n",
    "except Exception as e:\n",
    "    print(e)\n",
    "else:\n",
    "    print('예외 발생 x')\n",
    "finally:\n",
    "    print('항상 실행')\n",
    "    "
   ]
  },
  {
   "cell_type": "code",
   "execution_count": null,
   "metadata": {},
   "outputs": [],
   "source": []
  },
  {
   "cell_type": "markdown",
   "metadata": {},
   "source": [
    "#### **사용자가 임의로 예외 발생 시키기**\n",
    "\n",
    "- python에서 정해놓은 예외 이외에도 사용자의 조건에 맞게 예외를 정의 할 수있다 \n",
    "- 예외를 발생시킬 때는 raise에 예외를 지정하고, 에러메시지를 넣는다. \n",
    "- 에러메시지는 생략 가능하다.\n",
    "\n",
    "``` \n",
    "raise 예외 ('에러메시지') "
   ]
  },
  {
   "cell_type": "code",
   "execution_count": 66,
   "metadata": {},
   "outputs": [
    {
     "name": "stdout",
     "output_type": "stream",
     "text": [
      "점수 : 101\n"
     ]
    },
    {
     "ename": "Exception",
     "evalue": "100점을 넘을 수 없음",
     "output_type": "error",
     "traceback": [
      "\u001b[1;31m---------------------------------------------------------------------------\u001b[0m",
      "\u001b[1;31mException\u001b[0m                                 Traceback (most recent call last)",
      "\u001b[1;32m<ipython-input-66-6fd07fbb2694>\u001b[0m in \u001b[0;36m<module>\u001b[1;34m\u001b[0m\n\u001b[0;32m      1\u001b[0m \u001b[0mscore\u001b[0m\u001b[1;33m=\u001b[0m\u001b[0mint\u001b[0m\u001b[1;33m(\u001b[0m\u001b[0minput\u001b[0m\u001b[1;33m(\u001b[0m\u001b[1;34m'점수 : '\u001b[0m\u001b[1;33m)\u001b[0m\u001b[1;33m)\u001b[0m\u001b[1;33m\u001b[0m\u001b[1;33m\u001b[0m\u001b[0m\n\u001b[0;32m      2\u001b[0m \u001b[1;32mif\u001b[0m \u001b[0mscore\u001b[0m\u001b[1;33m>\u001b[0m\u001b[1;36m100\u001b[0m\u001b[1;33m:\u001b[0m\u001b[1;33m\u001b[0m\u001b[1;33m\u001b[0m\u001b[0m\n\u001b[1;32m----> 3\u001b[1;33m     \u001b[1;32mraise\u001b[0m \u001b[0mException\u001b[0m\u001b[1;33m(\u001b[0m\u001b[1;34m'100점을 넘을 수 없음'\u001b[0m\u001b[1;33m)\u001b[0m\u001b[1;33m\u001b[0m\u001b[1;33m\u001b[0m\u001b[0m\n\u001b[0m\u001b[0;32m      4\u001b[0m \u001b[1;33m\u001b[0m\u001b[0m\n\u001b[0;32m      5\u001b[0m \u001b[0mprint\u001b[0m\u001b[1;33m(\u001b[0m\u001b[1;34m'당신의 점수는 : '\u001b[0m\u001b[1;33m,\u001b[0m \u001b[0mscore\u001b[0m\u001b[1;33m)\u001b[0m\u001b[1;33m\u001b[0m\u001b[1;33m\u001b[0m\u001b[0m\n",
      "\u001b[1;31mException\u001b[0m: 100점을 넘을 수 없음"
     ]
    }
   ],
   "source": [
    "score=int(input('점수 : '))\n",
    "if score>100:\n",
    "    raise Exception('100점을 넘을 수 없음')\n",
    "\n",
    "print('당신의 점수는 : ', score)"
   ]
  },
  {
   "cell_type": "code",
   "execution_count": 67,
   "metadata": {},
   "outputs": [
    {
     "name": "stdout",
     "output_type": "stream",
     "text": [
      "점수 : 101\n",
      "예외발생 :  100점을 넘을 수 없음\n"
     ]
    }
   ],
   "source": [
    "score=int(input('점수 : '))\n",
    "try:\n",
    "    if score>100:\n",
    "        raise Exception('100점을 넘을 수 없음')\n",
    "\n",
    "    print('당신의 점수는 : ', score)\n",
    "except Exception as e:\n",
    "    print('예외발생 : ',e)"
   ]
  },
  {
   "cell_type": "code",
   "execution_count": 69,
   "metadata": {},
   "outputs": [
    {
     "name": "stdout",
     "output_type": "stream",
     "text": [
      "점수 : 200\n",
      "100점을 넘을 수 없음\n"
     ]
    }
   ],
   "source": [
    "def inputScore():\n",
    "    score=int(input('점수 : '))\n",
    "    if score>100:\n",
    "        raise Exception('100점을 넘을 수 없음')\n",
    "    print('당신의 점수는 : ', score)\n",
    "try:\n",
    "    inputScore()\n",
    "except Exception as e:\n",
    "    print(e)"
   ]
  },
  {
   "cell_type": "markdown",
   "metadata": {},
   "source": []
  },
  {
   "cell_type": "markdown",
   "metadata": {},
   "source": [
    "#### **현재 예외를 다시 발생 시키기** \n",
    "\n",
    "- try except 에서 처리한 예외를 다시 발생 시킬 수 있다. \n",
    "- except 안에서 raise를 사용하면 현재 예외를 다시 발생 시킨다.\n",
    "\n"
   ]
  },
  {
   "cell_type": "code",
   "execution_count": 71,
   "metadata": {},
   "outputs": [
    {
     "name": "stdout",
     "output_type": "stream",
     "text": [
      "점수 : 101\n",
      "예외발생 :  100점을 넘을 수 없음\n",
      "haha\n"
     ]
    }
   ],
   "source": [
    "def inputScore():\n",
    "    score=int(input('점수 : '))\n",
    "    try:\n",
    "        if score>100:\n",
    "            raise Exception('100점을 넘을 수 없음')\n",
    "        print('당신의 점수는 : ', score)\n",
    "    except Exception as e:\n",
    "        print('예외발생 : ',e)\n",
    "        raise #예외 다시 발생\n",
    "\n",
    "try:\n",
    "    inputScore()\n",
    "except Exception as e:\n",
    "    print('haha')"
   ]
  },
  {
   "cell_type": "markdown",
   "metadata": {},
   "source": [
    "#raise 예외('에러메시지')\n",
    "\n",
    "```\n",
    "        if x % 3 != 0:\n",
    "            raise Exception('3의 배수가 아닙니다.')\n",
    "        print(x)\n",
    "    except Exception as e:\n",
    "        print('three_multiple 함수에서 예외가 발생했습니다.', e)\n",
    "        raise RuntimeError('three_multiple 함수에서 예외가 발생했습니다.')\n",
    "```"
   ]
  },
  {
   "cell_type": "markdown",
   "metadata": {},
   "source": [
    "#### **assert로 예외 발생시키기**\n",
    "\n",
    "- assert는 지정된 조건식이 거짓일 때 assertionError 예외를 발생 시킨다.\n",
    "- 조건식이 참이면 그냥 지나간다. \n",
    "- assert 는 보통 나와서는 안되는 조건을 검사할 때 사용한다. \n",
    "\n"
   ]
  },
  {
   "cell_type": "code",
   "execution_count": null,
   "metadata": {},
   "outputs": [],
   "source": []
  },
  {
   "cell_type": "markdown",
   "metadata": {},
   "source": [
    "##### 참고 \n",
    "assert는 디버깅 모드에서만 실행됩니다. 특히 파이썬은 기본적으로 디버깅 모드이며(__debug__의 값이 True) assert가 실행되지 않게 하려면 python에 -O 옵션을 붙여서 실행합니다(영문 대문자 O).\n",
    "python -O 스크립트파일.py"
   ]
  },
  {
   "cell_type": "markdown",
   "metadata": {},
   "source": [
    "#### **사용자 정의 예외 만들기**\n",
    "\n",
    "- 프로그래머가 직접 만든 예외를 사용자 정의 예외라고 한다. \n",
    "- 예외를 생성하는 방법은 Exception을 상속받아서 새로운 클래스를 만들면 된다. \n",
    "- 그리고, __init__ 메서드에서 기반 클래스의 __init__ 메서드를 호출한다. \n",
    "- 기반클래스의 __init__메서드를 호출할 때 에러메시지를 넣어준다. \n",
    "\n",
    "```\n",
    "class 예외이름(Exception):\n",
    "    def __init__(self):\n",
    "        super().__init__('에러메시지')\n",
    "        \n",
    "```"
   ]
  },
  {
   "cell_type": "code",
   "execution_count": null,
   "metadata": {},
   "outputs": [],
   "source": []
  },
  {
   "cell_type": "code",
   "execution_count": null,
   "metadata": {},
   "outputs": [],
   "source": []
  },
  {
   "cell_type": "code",
   "execution_count": null,
   "metadata": {},
   "outputs": [],
   "source": []
  }
 ],
 "metadata": {
  "kernelspec": {
   "display_name": "Python 3",
   "language": "python",
   "name": "python3"
  },
  "language_info": {
   "codemirror_mode": {
    "name": "ipython",
    "version": 3
   },
   "file_extension": ".py",
   "mimetype": "text/x-python",
   "name": "python",
   "nbconvert_exporter": "python",
   "pygments_lexer": "ipython3",
   "version": "3.8.5"
  }
 },
 "nbformat": 4,
 "nbformat_minor": 4
}
