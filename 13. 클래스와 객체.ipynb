{
 "cells": [
  {
   "cell_type": "markdown",
   "metadata": {},
   "source": [
    "### 학습목표\n",
    " 1. 클래스와 오브젝트에 대해 이해한다. \n",
    " 2. 클래스를 정의하고 활용 할 수 있다."
   ]
  },
  {
   "cell_type": "markdown",
   "metadata": {},
   "source": [
    "#### **class란?**\n",
    " + 실세계의 것을 모델링하여 속성(attribute)와 행위(method)를 갖는 데이터 타입이다.\n",
    " + python에서의 string, int, list, dict.. 모두가 다 클래스로 존재한다.\n",
    " + 예를들어 학생이라는 클래스를 만든다면, 학생을 나타내는 속성과 학생이 행하는 행동을 함께 정의 할 수 있음\n",
    " + 사용하고자하는 데이터(변수)와 데이터를 다루는 연산(함수)를 하나로 캡슐화(encapsulation)하여 클래스로 표현한다.\n"
   ]
  },
  {
   "cell_type": "markdown",
   "metadata": {},
   "source": [
    "#### **object 란?**\n",
    " - 클래스로 생성되어 구체화된 객체(인스턴스)이다.\n",
    " - 파이썬의 모든 것(int, str, list..etc)은 객체(인스턴스)이다.\n",
    " - 실제로 class가 인스턴스화 되어 메모리에 상주하는 상태를 의미한다.\n",
    " - class가 설계도, object는 실제로 설계도를 기반으로 만든 것을 말한다.\n"
   ]
  },
  {
   "cell_type": "markdown",
   "metadata": {},
   "source": [
    "#### **class 선언하기**\n",
    "  - 객체를 생성하기 위해선 객체의 설계도가 되는 class를 미리 선언해야 한다."
   ]
  },
  {
   "cell_type": "code",
   "execution_count": 1,
   "metadata": {},
   "outputs": [],
   "source": [
    "class Person:\n",
    "    pass"
   ]
  },
  {
   "cell_type": "code",
   "execution_count": 6,
   "metadata": {},
   "outputs": [],
   "source": [
    "class Person:\n",
    "    '사람 클래스'\n",
    "    pass"
   ]
  },
  {
   "cell_type": "code",
   "execution_count": 9,
   "metadata": {},
   "outputs": [
    {
     "data": {
      "text/plain": [
       "'사람 클래스'"
      ]
     },
     "execution_count": 9,
     "metadata": {},
     "output_type": "execute_result"
    }
   ],
   "source": [
    "Person.__doc__"
   ]
  },
  {
   "cell_type": "code",
   "execution_count": 11,
   "metadata": {},
   "outputs": [
    {
     "data": {
      "text/plain": [
       "\"str(object='') -> str\\nstr(bytes_or_buffer[, encoding[, errors]]) -> str\\n\\nCreate a new string object from the given object. If encoding or\\nerrors is specified, then the object must expose a data buffer\\nthat will be decoded using the given encoding and error handler.\\nOtherwise, returns the result of object.__str__() (if defined)\\nor repr(object).\\nencoding defaults to sys.getdefaultencoding().\\nerrors defaults to 'strict'.\""
      ]
     },
     "execution_count": 11,
     "metadata": {},
     "output_type": "execute_result"
    }
   ],
   "source": [
    "str.__doc__"
   ]
  },
  {
   "cell_type": "code",
   "execution_count": 26,
   "metadata": {},
   "outputs": [],
   "source": [
    "class Person:\n",
    "    name=\"jes\"\n",
    "    def greet(self):\n",
    "        print(\"hello\")\n",
    "        "
   ]
  },
  {
   "cell_type": "code",
   "execution_count": 28,
   "metadata": {},
   "outputs": [
    {
     "name": "stdout",
     "output_type": "stream",
     "text": [
      "jes\n",
      "hello\n"
     ]
    }
   ],
   "source": [
    "a=Person()\n",
    "print(a.name)\n",
    "a.greet()"
   ]
  },
  {
   "cell_type": "code",
   "execution_count": 29,
   "metadata": {},
   "outputs": [
    {
     "name": "stdout",
     "output_type": "stream",
     "text": [
      "haha\n"
     ]
    }
   ],
   "source": [
    "a.name='haha'\n",
    "print(a.name)"
   ]
  },
  {
   "cell_type": "code",
   "execution_count": 30,
   "metadata": {},
   "outputs": [
    {
     "data": {
      "text/plain": [
       "{'name': 'haha'}"
      ]
     },
     "execution_count": 30,
     "metadata": {},
     "output_type": "execute_result"
    }
   ],
   "source": [
    "a.__dict__"
   ]
  },
  {
   "cell_type": "code",
   "execution_count": 31,
   "metadata": {},
   "outputs": [
    {
     "data": {
      "text/plain": [
       "mappingproxy({'__module__': '__main__',\n",
       "              'name': 'jes',\n",
       "              'greet': <function __main__.Person.greet(self)>,\n",
       "              '__dict__': <attribute '__dict__' of 'Person' objects>,\n",
       "              '__weakref__': <attribute '__weakref__' of 'Person' objects>,\n",
       "              '__doc__': None})"
      ]
     },
     "execution_count": 31,
     "metadata": {},
     "output_type": "execute_result"
    }
   ],
   "source": [
    "Person.__dict__"
   ]
  },
  {
   "cell_type": "code",
   "execution_count": 32,
   "metadata": {},
   "outputs": [],
   "source": [
    "class Person:\n",
    "    name=\"jeong eui seok\"\n",
    "    age=\"26\"\n",
    "    phone=\"010-2211-7680\"\n",
    "    address=\"seoul\""
   ]
  },
  {
   "cell_type": "code",
   "execution_count": 34,
   "metadata": {},
   "outputs": [
    {
     "name": "stdout",
     "output_type": "stream",
     "text": [
      "jeong eui seok\n",
      "26\n",
      "010-2211-7680\n",
      "seoul\n"
     ]
    }
   ],
   "source": [
    "a=Person()\n",
    "print(a.name)\n",
    "print(a.age)\n",
    "print(a.phone)\n",
    "print(a.address)"
   ]
  },
  {
   "cell_type": "code",
   "execution_count": 36,
   "metadata": {},
   "outputs": [
    {
     "data": {
      "text/plain": [
       "mappingproxy({'__module__': '__main__',\n",
       "              'name': 'jeong eui seok',\n",
       "              'age': '26',\n",
       "              'phone': '010-2211-7680',\n",
       "              'address': 'seoul',\n",
       "              '__dict__': <attribute '__dict__' of 'Person' objects>,\n",
       "              '__weakref__': <attribute '__weakref__' of 'Person' objects>,\n",
       "              '__doc__': None})"
      ]
     },
     "execution_count": 36,
     "metadata": {},
     "output_type": "execute_result"
    }
   ],
   "source": [
    "Person.__dict__"
   ]
  },
  {
   "cell_type": "markdown",
   "metadata": {},
   "source": [
    "#### \\_\\_init__(self)\n",
    " + 생성자, 클래스 인스턴스가 생성될 때 호출된다. \n",
    " + self인자는 항상 첫번째에 오며 자기 자신을 가리키다.\n",
    " + 이름이 꼭 self일 필요는 없지만, 관례적으로 self로 사용한다.\n",
    " \n",
    " + 생성자에서는 해당 클래스가 다루는 데이터를 정의한다.\n",
    "   - 이 데이터를 멤버 변수(member variable) 또는 속성(attribute)라고 함"
   ]
  },
  {
   "cell_type": "code",
   "execution_count": 37,
   "metadata": {},
   "outputs": [],
   "source": [
    "class Person:\n",
    "    def __init__(self):\n",
    "        print('객체 생성')\n",
    "        "
   ]
  },
  {
   "cell_type": "code",
   "execution_count": 38,
   "metadata": {},
   "outputs": [
    {
     "name": "stdout",
     "output_type": "stream",
     "text": [
      "객체 생성\n"
     ]
    }
   ],
   "source": [
    "a=Person()\n"
   ]
  },
  {
   "cell_type": "code",
   "execution_count": 40,
   "metadata": {},
   "outputs": [
    {
     "name": "stdout",
     "output_type": "stream",
     "text": [
      "jeong 20\n"
     ]
    }
   ],
   "source": [
    "class Person:\n",
    "    def __init__(self):\n",
    "        self.name=\"jeong\"\n",
    "        self.age=20\n",
    "a=Person()\n",
    "print(a.name,a.age)"
   ]
  },
  {
   "cell_type": "code",
   "execution_count": 45,
   "metadata": {},
   "outputs": [
    {
     "name": "stdout",
     "output_type": "stream",
     "text": [
      "정의석 26\n",
      "Kim 20\n"
     ]
    }
   ],
   "source": [
    "class Person:\n",
    "    def __init__(self,name,age=20):\n",
    "        self.name=name\n",
    "        self.age=age\n",
    "a=Person(\"정의석\",26)\n",
    "b=Person(\"Kim\")\n",
    "print(a.name,a.age)\n",
    "print(b.name,b.age)"
   ]
  },
  {
   "cell_type": "code",
   "execution_count": 46,
   "metadata": {},
   "outputs": [
    {
     "name": "stdout",
     "output_type": "stream",
     "text": [
      "<class '__main__.Person'> <class '__main__.Person'>\n"
     ]
    }
   ],
   "source": [
    "print(type(a),type(b))"
   ]
  },
  {
   "cell_type": "markdown",
   "metadata": {},
   "source": [
    "#### **self**\n",
    " - 파이썬의 method는 항상 첫번째 인자로 self를 전달한다.\n",
    " - self는 현재 해당 메쏘드가 호출되는 객체 자신을 가리킨다.\n",
    " - 반드시 이름이 self일 필요는 없으나 관례적으로 self를 사용한다.\n",
    " - 위치는 항상 맨 첫번째 parameter이다.  "
   ]
  },
  {
   "cell_type": "code",
   "execution_count": 52,
   "metadata": {},
   "outputs": [
    {
     "name": "stdout",
     "output_type": "stream",
     "text": [
      "차 200\n"
     ]
    }
   ],
   "source": [
    "# name, speed 속성 갖고 있는 Car 클래스 정의\n",
    "\n",
    "class Car:\n",
    "    def __init__(self):\n",
    "        self.name=None\n",
    "        self.speed=0\n",
    "        \n",
    "a=Car()\n",
    "a.name='차'\n",
    "a.speed=200\n",
    "print(a.name,a.speed)\n"
   ]
  },
  {
   "cell_type": "code",
   "execution_count": 63,
   "metadata": {},
   "outputs": [
    {
     "name": "stdout",
     "output_type": "stream",
     "text": [
      "이름 : 자동차\n",
      "속도 : 300\n"
     ]
    }
   ],
   "source": [
    "# 차의 이름 속도 알려주는 info 메서드 정의\n",
    "class Car:\n",
    "    def __init__(self,name,speed):\n",
    "        self.name=name\n",
    "        self.speed=speed\n",
    "    def info(self):\n",
    "        print(\"이름 : {}\\n속도 : {}\".format(self.name, self.speed))\n",
    "        \n",
    "a=Car('자동차',300)\n",
    "a.info()"
   ]
  },
  {
   "cell_type": "markdown",
   "metadata": {},
   "source": [
    "#### **mehtod 정의**\n",
    " + 파이썬에서는 메서드의 첫번째 매개변수 이름은 관례적으로 self를 사용한다. \n",
    " + obj.method() 형태로 호출된다."
   ]
  },
  {
   "cell_type": "code",
   "execution_count": 81,
   "metadata": {},
   "outputs": [
    {
     "name": "stdout",
     "output_type": "stream",
     "text": [
      "1\n",
      "0\n",
      "-1\n",
      "0\n",
      "1\n"
     ]
    }
   ],
   "source": [
    "#Counter 클래스 정의\n",
    "#멤버 변수로 num 갖고 있음, num을 1씩 증가시키는 메서드\n",
    "#num을 1씩 감소시키는 메서드\n",
    "#num을 0으로 초기화하는 메서드\n",
    "#num의 현재 값을 알려주는 메서드\n",
    "class Counter:\n",
    "    def __init__(self):\n",
    "        self.num=0\n",
    "    def plus(self):\n",
    "        self.num+=1\n",
    "    def minus(self):\n",
    "        self.num-=1\n",
    "    def reset(self):\n",
    "        self.num=0\n",
    "    def print_num(self):\n",
    "        print(self.num)\n",
    "c=Counter()\n",
    "\n",
    "c.plus()\n",
    "c.print_num()\n",
    "\n",
    "c.minus()\n",
    "c.print_num()\n",
    "\n",
    "c.minus()\n",
    "c.print_num()\n",
    "\n",
    "c.reset()\n",
    "c.print_num()\n",
    "\n",
    "c.plus()\n",
    "c.print_num()\n"
   ]
  },
  {
   "cell_type": "code",
   "execution_count": 85,
   "metadata": {},
   "outputs": [
    {
     "name": "stdout",
     "output_type": "stream",
     "text": [
      "Do it 파이썬\n"
     ]
    }
   ],
   "source": [
    "class Book:\n",
    "    pass\n",
    "\n",
    "python=Book()\n",
    "python.name=\"Do it 파이썬\" #빈 클래스에 추가 \n",
    "print(python.name)\n",
    "java=Book()\n",
    "\n"
   ]
  },
  {
   "cell_type": "code",
   "execution_count": null,
   "metadata": {},
   "outputs": [],
   "source": []
  },
  {
   "cell_type": "markdown",
   "metadata": {},
   "source": [
    "#### **비공개속성**\n"
   ]
  },
  {
   "cell_type": "code",
   "execution_count": 92,
   "metadata": {},
   "outputs": [
    {
     "name": "stdout",
     "output_type": "stream",
     "text": [
      "100\n"
     ]
    }
   ],
   "source": [
    "class Person():\n",
    "    def __init__(self):\n",
    "        self.__name='정의석'\n",
    "        self.age=100\n",
    "        \n",
    "a=Person()\n",
    "# print(a.__name)\n",
    "print(a.age)"
   ]
  },
  {
   "cell_type": "code",
   "execution_count": 101,
   "metadata": {},
   "outputs": [
    {
     "name": "stdout",
     "output_type": "stream",
     "text": [
      "정의석 100\n",
      "하하\n"
     ]
    }
   ],
   "source": [
    "class Person():\n",
    "    def __init__(self):\n",
    "        self.__name='정의석'\n",
    "        self.age=100\n",
    "        \n",
    "    def getName(self):\n",
    "        return self.__name\n",
    "    def __setName(self,name): # 비공개 메서드\n",
    "        self.__name=name\n",
    "    def setName2(self,name):\n",
    "        self.__setName(name)\n",
    "a=Person()\n",
    "print(a.getName(),a.age)\n",
    "\n",
    "a.setName2('하하')\n",
    "print(a.getName())"
   ]
  },
  {
   "cell_type": "code",
   "execution_count": null,
   "metadata": {},
   "outputs": [],
   "source": []
  },
  {
   "cell_type": "markdown",
   "metadata": {},
   "source": [
    "#### **클래스 속성 VS 인스턴스 속성**"
   ]
  },
  {
   "cell_type": "code",
   "execution_count": 108,
   "metadata": {},
   "outputs": [
    {
     "name": "stdout",
     "output_type": "stream",
     "text": [
      "정의석 30\n"
     ]
    },
    {
     "data": {
      "text/plain": [
       "20"
      ]
     },
     "execution_count": 108,
     "metadata": {},
     "output_type": "execute_result"
    }
   ],
   "source": [
    "class Person:\n",
    "    age=20 #클래스 속성\n",
    "    def __init__(self):\n",
    "        self.name='정의석' #인스턴스 속성(변수)\n",
    "        self.age=30\n",
    "        \n",
    "a=Person()\n",
    "print(a.name,a.age)\n",
    "Person.age"
   ]
  },
  {
   "cell_type": "code",
   "execution_count": 3,
   "metadata": {},
   "outputs": [
    {
     "name": "stdout",
     "output_type": "stream",
     "text": [
      "['사탕', '책']\n",
      "['펜']\n"
     ]
    }
   ],
   "source": [
    "class Person:\n",
    "    def __init__(self):\n",
    "        self.bag=[]\n",
    "    def putBag(self,item):\n",
    "        self.bag.append(item)\n",
    "a=Person()\n",
    "b=Person()\n",
    "a.putBag(\"사탕\")\n",
    "a.putBag(\"책\")\n",
    "b.putBag(\"펜\")\n",
    "print(a.bag)\n",
    "print(b.bag)"
   ]
  },
  {
   "cell_type": "markdown",
   "metadata": {},
   "source": [
    "#### **method type**\n",
    " - instance method - 객체로 호출된다. \n",
    "   - 메서드는 객체가 생성될때 만들어진다.  \n",
    " - class method(static method) - class로 호출\n",
    "   - 클래스 메서드의 경우 객체가 생성되기 전에 미리 생성됨으로 객체를 통해 호출하지 않는다.\n"
   ]
  },
  {
   "cell_type": "code",
   "execution_count": 127,
   "metadata": {},
   "outputs": [
    {
     "name": "stdout",
     "output_type": "stream",
     "text": [
      "jes\n"
     ]
    },
    {
     "data": {
      "text/plain": [
       "5"
      ]
     },
     "execution_count": 127,
     "metadata": {},
     "output_type": "execute_result"
    }
   ],
   "source": [
    "class Cal:\n",
    "    name='jes'\n",
    "    @staticmethod\n",
    "    def add(a,b):\n",
    "        print(Cal.name)\n",
    "        return a+b\n",
    "\n",
    "Cal.add(2,3)"
   ]
  },
  {
   "cell_type": "code",
   "execution_count": 126,
   "metadata": {},
   "outputs": [
    {
     "name": "stdout",
     "output_type": "stream",
     "text": [
      "jes\n"
     ]
    },
    {
     "data": {
      "text/plain": [
       "5"
      ]
     },
     "execution_count": 126,
     "metadata": {},
     "output_type": "execute_result"
    }
   ],
   "source": [
    "class Cal:\n",
    "    name='jes'\n",
    "    @classmethod\n",
    "    def add(cls,a,b): #첫번째인자\n",
    "        print(cls.name)\n",
    "        return a+b\n",
    "\n",
    "Cal.add(2,3)"
   ]
  },
  {
   "cell_type": "code",
   "execution_count": null,
   "metadata": {},
   "outputs": [],
   "source": []
  },
  {
   "cell_type": "code",
   "execution_count": null,
   "metadata": {},
   "outputs": [],
   "source": []
  },
  {
   "cell_type": "code",
   "execution_count": null,
   "metadata": {},
   "outputs": [],
   "source": []
  },
  {
   "cell_type": "code",
   "execution_count": null,
   "metadata": {},
   "outputs": [],
   "source": []
  },
  {
   "cell_type": "markdown",
   "metadata": {},
   "source": [
    " #### **Class Inheritance (상속)**\n",
    "  - 다른 클래스의 기능을 그대로 물려받을 수 있다.\n",
    "  - 기존 클래스에 기능 일부를 추가하거나, 변경하여 새로운 클래스를 정의한다.\n",
    "  - 코드를 재사용할 수 있게된다.\n",
    "  - 상속 받고자 하는 대상인 기존 클래스는 (Parent, Super, Base class 라고 부른다.)\n",
    "  - 상속 받는 새로운 클래스는(Child, Sub, Derived class 라고 부른다.)\n",
    "  - 의미적으로 is-a관계를 갖는다"
   ]
  },
  {
   "cell_type": "code",
   "execution_count": 132,
   "metadata": {},
   "outputs": [
    {
     "name": "stdout",
     "output_type": "stream",
     "text": [
      "hello\n",
      "no name\n",
      "공부하다\n"
     ]
    }
   ],
   "source": [
    "class Person:\n",
    "    def __init__(self):\n",
    "        self.name=\"no name\"\n",
    "    def hello(self):\n",
    "        print('hello')\n",
    "        \n",
    "class Student(Person):\n",
    "    def study(self):\n",
    "        print(\"공부하다\")\n",
    "a=Student()\n",
    "a.hello()\n",
    "print(a.name)\n",
    "a.study()"
   ]
  },
  {
   "cell_type": "code",
   "execution_count": 143,
   "metadata": {},
   "outputs": [
    {
     "name": "stdout",
     "output_type": "stream",
     "text": [
      "Person생성자\n",
      "Person생성자\n",
      "Student생성자\n",
      "hello\n",
      "student hello\n"
     ]
    }
   ],
   "source": [
    "class Person:\n",
    "    def __init__(self,name,age):\n",
    "        self.name=name\n",
    "        self.age=age\n",
    "        print(\"Person생성자\")\n",
    "    def hello(self):\n",
    "        print('hello')\n",
    "\n",
    "class Student(Person):\n",
    "    def __init__(self,name,schoolName,age):\n",
    "#         Person.__init__(self,name,age)\n",
    "        super().__init__(name,age)\n",
    "        self.schoolName=schoolName\n",
    "        print(\"Student생성자\")\n",
    "    def hello(self):\n",
    "        super().hello()\n",
    "        print(\"student hello\")\n",
    "        \n",
    "a=Student(\"정의석\",\"학교\",50)\n",
    "a.hello()"
   ]
  },
  {
   "cell_type": "code",
   "execution_count": null,
   "metadata": {},
   "outputs": [],
   "source": []
  },
  {
   "cell_type": "code",
   "execution_count": null,
   "metadata": {},
   "outputs": [],
   "source": []
  },
  {
   "cell_type": "markdown",
   "metadata": {},
   "source": [
    "#### **method override**\n",
    " - 부모 클래스의 method를 재정의(override)한다.\n",
    " - 하위 클래스(자식 클래스) 의 인스턴스로 호출시, 재정의된 메소드가 호출된다."
   ]
  },
  {
   "cell_type": "code",
   "execution_count": null,
   "metadata": {},
   "outputs": [],
   "source": []
  },
  {
   "cell_type": "markdown",
   "metadata": {},
   "source": [
    "#### super \n",
    " - 하위클래스(자식 클래스)에서 부모클래스의 method를 호출할 때 사용한다."
   ]
  },
  {
   "cell_type": "code",
   "execution_count": null,
   "metadata": {},
   "outputs": [],
   "source": []
  },
  {
   "cell_type": "markdown",
   "metadata": {},
   "source": [
    "###  다중상속"
   ]
  },
  {
   "cell_type": "code",
   "execution_count": 150,
   "metadata": {},
   "outputs": [
    {
     "name": "stdout",
     "output_type": "stream",
     "text": [
      "hello c\n",
      "[<class '__main__.D'>, <class '__main__.C'>, <class '__main__.A'>, <class '__main__.B'>, <class 'object'>]\n"
     ]
    }
   ],
   "source": [
    "class A:\n",
    "    def hello(self):\n",
    "        print('hello a')\n",
    "class B:\n",
    "    def hello(self):\n",
    "        print('hello b')\n",
    "class C(A):\n",
    "    def hello(self):\n",
    "        print('hello c')\n",
    "class D(C,B):\n",
    "    pass\n",
    "test=D()\n",
    "test.hello()\n",
    "\n",
    "print(D.mro())"
   ]
  },
  {
   "cell_type": "code",
   "execution_count": null,
   "metadata": {},
   "outputs": [],
   "source": []
  },
  {
   "cell_type": "code",
   "execution_count": null,
   "metadata": {},
   "outputs": [],
   "source": []
  },
  {
   "cell_type": "markdown",
   "metadata": {},
   "source": [
    "#### **special method**\n",
    " - __로 시작 __로 끝나는 특수 함수다.\n",
    " - 해당 메쏘드들을 구현하면, 커스텀 객체에 여러가지 파이썬 내장 함수나 연산자를 적용 가능하다.\n",
    " - 오버라이딩 가능한 함수 목록은 아래 링크에서 참조 \n",
    "   - https://docs.python.org/3/reference/datamodel.html\n",
    "   - https://docs.python.org/3/reference/datamodel.html#object.__add__"
   ]
  },
  {
   "cell_type": "code",
   "execution_count": 158,
   "metadata": {},
   "outputs": [
    {
     "name": "stdout",
     "output_type": "stream",
     "text": [
      "__add__ \n",
      "5 8\n"
     ]
    }
   ],
   "source": [
    "class Point:\n",
    "    def __init__(self,x,y):\n",
    "        self.x=x\n",
    "        self.y=y\n",
    "    def __add__(self,p):\n",
    "        print('__add__ ')\n",
    "        new_x=self.x+p.x\n",
    "        new_y=self.y+p.y\n",
    "        return Point(new_x,new_y)\n",
    "p1= Point(2,3)\n",
    "p2= Point(3,5)\n",
    "p3= p1 + p2 # + 가 __add__ 를 호출\n",
    "print(p3.x,p3.y)"
   ]
  },
  {
   "cell_type": "code",
   "execution_count": null,
   "metadata": {},
   "outputs": [],
   "source": []
  },
  {
   "cell_type": "code",
   "execution_count": null,
   "metadata": {},
   "outputs": [],
   "source": []
  }
 ],
 "metadata": {
  "kernelspec": {
   "display_name": "Python 3",
   "language": "python",
   "name": "python3"
  },
  "language_info": {
   "codemirror_mode": {
    "name": "ipython",
    "version": 3
   },
   "file_extension": ".py",
   "mimetype": "text/x-python",
   "name": "python",
   "nbconvert_exporter": "python",
   "pygments_lexer": "ipython3",
   "version": "3.8.5"
  }
 },
 "nbformat": 4,
 "nbformat_minor": 1
}
