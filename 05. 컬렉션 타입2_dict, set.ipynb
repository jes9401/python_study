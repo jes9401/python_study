{
 "cells": [
  {
   "cell_type": "markdown",
   "metadata": {},
   "source": [
    "## 학습목표\n",
    " 1. dictionary, set에 대해 이해하고 활용할 수 있다. \n"
   ]
  },
  {
   "cell_type": "markdown",
   "metadata": {},
   "source": [
    "### **dictionary**\n",
    " + 키와 값을 갖는 데이터 구조이다.\n",
    " + 키는 내부적으로 hash값으로 저장된다.\n",
    " + 순서가 없다. 그러므로 인덱스가 존재하지 않는다. \n",
    " \n",
    " - Key와 Value의 쌍 여러 개가 { }로 둘러싸여 있다. \n",
    " - 각각의 요소는 Key : Value 형태로 이루어져 있고 쉼표(,)로 구분되어 있다.\n",
    " \n",
    " ```\n",
    " dict = {} \n",
    " \n",
    " dic22 = {key1:value1, key2:value2,....} \n",
    " ```\n",
    " "
   ]
  },
  {
   "cell_type": "code",
   "execution_count": 73,
   "metadata": {},
   "outputs": [
    {
     "name": "stdout",
     "output_type": "stream",
     "text": [
      "{} <class 'dict'>\n",
      "{} <class 'dict'>\n"
     ]
    }
   ],
   "source": [
    "dic=dict()\n",
    "print(dic,type(dic))\n",
    "dic2={}\n",
    "print(dic2,type(dic2))"
   ]
  },
  {
   "cell_type": "code",
   "execution_count": 26,
   "metadata": {},
   "outputs": [
    {
     "name": "stdout",
     "output_type": "stream",
     "text": [
      "{'이름': '정의석', '나이': 26, '주소': '서울'}\n",
      "정의석\n",
      "이름 정의석\n",
      "나이 26\n",
      "주소 서울\n",
      "<class 'dict'>\n"
     ]
    }
   ],
   "source": [
    "student={'이름':'정의석','나이':26,'주소':'서울'}\n",
    "print(student)\n",
    "print(student['이름'])\n",
    "for i in student:\n",
    "    print(i, student[i])\n",
    "print(type(student))"
   ]
  },
  {
   "cell_type": "code",
   "execution_count": 27,
   "metadata": {},
   "outputs": [
    {
     "name": "stdout",
     "output_type": "stream",
     "text": [
      "1\n",
      "[1, 2, 3]\n",
      "{'c': 11}\n",
      "11\n"
     ]
    }
   ],
   "source": [
    "d2={'a':1,'b':2}\n",
    "print(d2['a'])\n",
    "\n",
    "d3={'a':[1,2,3],'b':{'c':11}}\n",
    "print(d3['a'])\n",
    "print(d3['b'])\n",
    "print(d3['b']['c'])"
   ]
  },
  {
   "cell_type": "markdown",
   "metadata": {},
   "source": [
    "+ **딕셔너리 요소 추가 및 변경**\n",
    " - 기존에 키가 존재 하면, 새로운 값으로 업데이트된다.\n",
    " - 존재하지 않으면, 새로운 키, 값 생성된다."
   ]
  },
  {
   "cell_type": "code",
   "execution_count": 35,
   "metadata": {},
   "outputs": [
    {
     "name": "stdout",
     "output_type": "stream",
     "text": [
      "{1: 'a', 2: 'b'}\n",
      "{1: 'a', 2: 'c'}\n",
      "{1: 'a', 2: 'c', 3: {'a': 1, 'b': 2}}\n"
     ]
    }
   ],
   "source": [
    "a={1:'a'}\n",
    "a[1]\n",
    "a[2]='b'\n",
    "print(a)\n",
    "a[2]='c'\n",
    "print(a)\n",
    "\n",
    "a[3]={'a':1,'b':2}\n",
    "print(a)"
   ]
  },
  {
   "cell_type": "code",
   "execution_count": null,
   "metadata": {},
   "outputs": [],
   "source": [
    "\n"
   ]
  },
  {
   "cell_type": "code",
   "execution_count": null,
   "metadata": {},
   "outputs": [],
   "source": []
  },
  {
   "cell_type": "code",
   "execution_count": null,
   "metadata": {},
   "outputs": [],
   "source": []
  },
  {
   "cell_type": "markdown",
   "metadata": {},
   "source": [
    "+ **딕셔너리 요소 삭제**\n",
    "  * del 키워드  \n",
    "    + del a[1]\n",
    "  * pop() 함수\n",
    "    + a.pop('key')"
   ]
  },
  {
   "cell_type": "code",
   "execution_count": 40,
   "metadata": {},
   "outputs": [
    {
     "name": "stdout",
     "output_type": "stream",
     "text": [
      "{1: 'a', 2: 'c', 3: {'a': 1, 'b': 2}}\n",
      "{2: 'c', 3: {'a': 1, 'b': 2}}\n",
      "{2: 'c', 3: {'b': 2}}\n"
     ]
    }
   ],
   "source": [
    "a={1: 'a', 2: 'c', 3: {'a': 1, 'b': 2}}\n",
    "print(a)\n",
    "del a[1]\n",
    "print(a)\n",
    "del a[3]['a']\n",
    "print(a)"
   ]
  },
  {
   "cell_type": "code",
   "execution_count": 45,
   "metadata": {},
   "outputs": [
    {
     "name": "stdout",
     "output_type": "stream",
     "text": [
      "c\n",
      "{1: 'a', 3: {'a': 1, 'b': 2}}\n"
     ]
    }
   ],
   "source": [
    "a={1: 'a', 2: 'c', 3: {'a': 1, 'b': 2}}\n",
    "print(a.pop(2))\n",
    "print(a)"
   ]
  },
  {
   "cell_type": "code",
   "execution_count": null,
   "metadata": {},
   "outputs": [],
   "source": []
  },
  {
   "cell_type": "code",
   "execution_count": 2,
   "metadata": {},
   "outputs": [
    {
     "name": "stdout",
     "output_type": "stream",
     "text": [
      "{'a': 10, 'b': 20, 'c': 30, 'd': None}\n",
      "{'a': 10, 'b': 20, 'c': 30, 'd': None, 'e': 50}\n",
      "{'a': 10, 'b': 20, 'c': 30, 'd': None, 'e': 50}\n"
     ]
    }
   ],
   "source": [
    "#setdefault()  이용해서 추가하기!! \n",
    "# 없는경우에만 추가\n",
    "x={'a':10,'b':20,'c':30}\n",
    "x.setdefault('d')\n",
    "print(x)\n",
    "x.setdefault('e',50)\n",
    "print(x)\n",
    "x.setdefault('a',20)\n",
    "print(x)"
   ]
  },
  {
   "cell_type": "markdown",
   "metadata": {},
   "source": [
    "+ **update()**\n",
    " * 두 딕셔너리를 병합한다.\n",
    " * 겹치는 키가 있다면 parameter로 전달되는 키 값이 overwrite된다."
   ]
  },
  {
   "cell_type": "code",
   "execution_count": 54,
   "metadata": {},
   "outputs": [
    {
     "name": "stdout",
     "output_type": "stream",
     "text": [
      "{'a': 100, 'b': 200, 'c': 300, 'e': 50, 'd': 400}\n"
     ]
    }
   ],
   "source": [
    "x={'a':10,'b':20,'c':30,'e':50}\n",
    "y={'a':100,'b':200,'c':300,'d':400}\n",
    "x.update(y)\n",
    "print(x)\n"
   ]
  },
  {
   "cell_type": "code",
   "execution_count": 56,
   "metadata": {},
   "outputs": [
    {
     "name": "stdout",
     "output_type": "stream",
     "text": [
      "{'a': 100, 'b': 20, 'c': 30, 'd': 40}\n",
      "{'a': 10, 'b': 20, 'c': 30, 'd': 40, 'f': 2000}\n"
     ]
    }
   ],
   "source": [
    "x={'a':10,'b':20,'c':30,'d':40}\n",
    "\n",
    "x.update(a=100)\n",
    "print(x)\n",
    "x.update(a=10,f=2000)\n",
    "print(x)"
   ]
  },
  {
   "cell_type": "code",
   "execution_count": 58,
   "metadata": {},
   "outputs": [
    {
     "name": "stdout",
     "output_type": "stream",
     "text": [
      "{1: 'ONE', 2: 'two', 3: 'three'}\n"
     ]
    }
   ],
   "source": [
    "y={1:'one',2:'two'}\n",
    "y.update([[1,\"ONE\"],[3,\"three\"]])\n",
    "print(y)"
   ]
  },
  {
   "cell_type": "code",
   "execution_count": null,
   "metadata": {},
   "outputs": [],
   "source": []
  },
  {
   "cell_type": "code",
   "execution_count": null,
   "metadata": {},
   "outputs": [],
   "source": []
  },
  {
   "cell_type": "markdown",
   "metadata": {},
   "source": [
    "* **key삭제**\n",
    " - del 키워드 사용\n",
    " - pop 함수 이용"
   ]
  },
  {
   "cell_type": "code",
   "execution_count": 62,
   "metadata": {},
   "outputs": [
    {
     "name": "stdout",
     "output_type": "stream",
     "text": [
      "{2: 'two'}\n"
     ]
    }
   ],
   "source": [
    "y={1:'one',2:'two'}\n",
    "del y[1]\n",
    "print(y)"
   ]
  },
  {
   "cell_type": "code",
   "execution_count": 63,
   "metadata": {},
   "outputs": [
    {
     "name": "stdout",
     "output_type": "stream",
     "text": [
      "{2: 'two'}\n"
     ]
    }
   ],
   "source": [
    "y={1:'one',2:'two'}\n",
    "y.pop(1)\n",
    "print(y)"
   ]
  },
  {
   "cell_type": "markdown",
   "metadata": {},
   "source": [
    "* **clear()**\n",
    " + 딕셔너리의 모든 키-값 쌍을 삭제한다. \n"
   ]
  },
  {
   "cell_type": "code",
   "execution_count": 64,
   "metadata": {},
   "outputs": [
    {
     "name": "stdout",
     "output_type": "stream",
     "text": [
      "{}\n"
     ]
    }
   ],
   "source": [
    "y={1:'one',2:'two'}\n",
    "y.clear()\n",
    "print(y)"
   ]
  },
  {
   "cell_type": "markdown",
   "metadata": {},
   "source": [
    "* **in**\n",
    " + key값 존재여부를 확인한다.\n",
    " + O(1) 연산 - 딕셔너리의 크기와 관계없이 항상 연산의 속도가 일정하다는 의미한다."
   ]
  },
  {
   "cell_type": "code",
   "execution_count": 68,
   "metadata": {},
   "outputs": [
    {
     "name": "stdout",
     "output_type": "stream",
     "text": [
      "True\n",
      "False\n",
      "False\n",
      "True\n"
     ]
    }
   ],
   "source": [
    "y={1:'one',2:'two'}\n",
    "print(1 in y)\n",
    "print(3 in y)\n",
    "print(1 not in y)\n",
    "print(3 not in y)"
   ]
  },
  {
   "cell_type": "markdown",
   "metadata": {},
   "source": [
    "* **value access**\n",
    " + dict[key]로 접급, 키가 없는 경우 에러 발생 \n",
    " + .get() 함수로 접근, 키가 없는 경우 None반환"
   ]
  },
  {
   "cell_type": "code",
   "execution_count": 69,
   "metadata": {},
   "outputs": [
    {
     "name": "stdout",
     "output_type": "stream",
     "text": [
      "one\n"
     ]
    },
    {
     "ename": "KeyError",
     "evalue": "3",
     "output_type": "error",
     "traceback": [
      "\u001b[1;31m---------------------------------------------------------------------------\u001b[0m",
      "\u001b[1;31mKeyError\u001b[0m                                  Traceback (most recent call last)",
      "\u001b[1;32m<ipython-input-69-c3a1d44ac97d>\u001b[0m in \u001b[0;36m<module>\u001b[1;34m\u001b[0m\n\u001b[0;32m      1\u001b[0m \u001b[0my\u001b[0m\u001b[1;33m=\u001b[0m\u001b[1;33m{\u001b[0m\u001b[1;36m1\u001b[0m\u001b[1;33m:\u001b[0m\u001b[1;34m'one'\u001b[0m\u001b[1;33m,\u001b[0m\u001b[1;36m2\u001b[0m\u001b[1;33m:\u001b[0m\u001b[1;34m'two'\u001b[0m\u001b[1;33m}\u001b[0m\u001b[1;33m\u001b[0m\u001b[1;33m\u001b[0m\u001b[0m\n\u001b[0;32m      2\u001b[0m \u001b[0mprint\u001b[0m\u001b[1;33m(\u001b[0m\u001b[0my\u001b[0m\u001b[1;33m[\u001b[0m\u001b[1;36m1\u001b[0m\u001b[1;33m]\u001b[0m\u001b[1;33m)\u001b[0m\u001b[1;33m\u001b[0m\u001b[1;33m\u001b[0m\u001b[0m\n\u001b[1;32m----> 3\u001b[1;33m \u001b[0mprint\u001b[0m\u001b[1;33m(\u001b[0m\u001b[0my\u001b[0m\u001b[1;33m[\u001b[0m\u001b[1;36m3\u001b[0m\u001b[1;33m]\u001b[0m\u001b[1;33m)\u001b[0m\u001b[1;33m\u001b[0m\u001b[1;33m\u001b[0m\u001b[0m\n\u001b[0m",
      "\u001b[1;31mKeyError\u001b[0m: 3"
     ]
    }
   ],
   "source": [
    "y={1:'one',2:'two'}\n",
    "print(y[1])\n",
    "print(y[3]) #오류 발생"
   ]
  },
  {
   "cell_type": "code",
   "execution_count": 72,
   "metadata": {},
   "outputs": [
    {
     "name": "stdout",
     "output_type": "stream",
     "text": [
      "one\n",
      "None\n"
     ]
    }
   ],
   "source": [
    "y={1:'one',2:'two'}\n",
    "print(y.get(1))\n",
    "print(y.get(3))"
   ]
  },
  {
   "cell_type": "markdown",
   "metadata": {},
   "source": [
    "#### **모든 keys, values 접근**\n",
    " + keys() - 키만 반환\n",
    " + values() - 값만 반환\n",
    " + items() - 키, 값의 튜플을 반환"
   ]
  },
  {
   "cell_type": "code",
   "execution_count": 83,
   "metadata": {},
   "outputs": [
    {
     "name": "stdout",
     "output_type": "stream",
     "text": [
      "dict_keys(['a', 'b', 'c', 'd'])\n",
      "dict_values([10, 20, 30, 40])\n",
      "dict_items([('a', 10), ('b', 20), ('c', 30), ('d', 40)])\n",
      "a 10\n",
      "b 20\n",
      "c 30\n",
      "d 40\n"
     ]
    }
   ],
   "source": [
    "x={'a':10,'b':20,'c':30,'d':40}\n",
    "print(x.keys())\n",
    "print(x.values())\n",
    "print(x.items())\n",
    "\n",
    "for i,v in x.items():\n",
    "    print(i,v)"
   ]
  },
  {
   "cell_type": "code",
   "execution_count": null,
   "metadata": {},
   "outputs": [],
   "source": [
    "x={'a':10,'b':20,'c':30,'d':40}\n"
   ]
  },
  {
   "cell_type": "markdown",
   "metadata": {},
   "source": [
    "### **리스트와 튜플로 딕셔너리 만들기**\n"
   ]
  },
  {
   "cell_type": "code",
   "execution_count": 85,
   "metadata": {},
   "outputs": [
    {
     "name": "stdout",
     "output_type": "stream",
     "text": [
      "{'a': None, 'b': None, 'c': None, 'd': None}\n"
     ]
    }
   ],
   "source": [
    "keys=['a','b','c','d']\n",
    "dic1=dict.fromkeys(keys)\n",
    "print(dic1)"
   ]
  },
  {
   "cell_type": "code",
   "execution_count": 86,
   "metadata": {},
   "outputs": [
    {
     "name": "stdout",
     "output_type": "stream",
     "text": [
      "{'a': 10, 'b': 10, 'c': 10, 'd': 10}\n"
     ]
    }
   ],
   "source": [
    "keys=['a','b','c','d']\n",
    "dic1=dict.fromkeys(keys,10)\n",
    "print(dic1)"
   ]
  },
  {
   "cell_type": "code",
   "execution_count": 87,
   "metadata": {},
   "outputs": [
    {
     "data": {
      "text/plain": [
       "{'a': 10, 'b': 20, 'c': 30, 'd': 40}"
      ]
     },
     "execution_count": 87,
     "metadata": {},
     "output_type": "execute_result"
    }
   ],
   "source": [
    "dic2=dict([('a', 10), ('b', 20), ('c', 30), ('d', 40)])\n",
    "dic2"
   ]
  },
  {
   "cell_type": "code",
   "execution_count": 88,
   "metadata": {},
   "outputs": [
    {
     "data": {
      "text/plain": [
       "{'a': 10, 'b': 20}"
      ]
     },
     "execution_count": 88,
     "metadata": {},
     "output_type": "execute_result"
    }
   ],
   "source": [
    "dic3=dict(a=10,b=20)\n",
    "dic3"
   ]
  },
  {
   "cell_type": "markdown",
   "metadata": {},
   "source": [
    "### **set**\n",
    " + dictionary에서 key만 활용하는 데이터 구조이다.\n",
    " + 수학에서의 집합과 동일한 개념이다.\n",
    " + 파이썬 2.3부터 지원된 자료형으로 집합에 관련된 것을 쉽게 처리한다.\n",
    " + set 키워드를 이용해서 만들 수 있다. \n",
    " + 빈 set 을 만드는 방법은 set() 을 이용한다. \n",
    " + 특징\n",
    "     - 중복을 허용하지 않는다. \n",
    "     - 순서가 없다. "
   ]
  },
  {
   "cell_type": "code",
   "execution_count": 94,
   "metadata": {},
   "outputs": [
    {
     "name": "stdout",
     "output_type": "stream",
     "text": [
      "{1, 2, 3, 4, 5, 6}\n",
      "<class 'set'>\n",
      "set()\n",
      "<class 'set'>\n"
     ]
    }
   ],
   "source": [
    "s={1,2,3,4,5,6,5,5,5,4,3}\n",
    "print(s)\n",
    "print(type(s))\n",
    "\n",
    "s1=set()\n",
    "print(s1)\n",
    "print(type(s1))"
   ]
  },
  {
   "cell_type": "markdown",
   "metadata": {},
   "source": [
    "* **set()으로 집합으로 변환**"
   ]
  },
  {
   "cell_type": "code",
   "execution_count": 97,
   "metadata": {
    "scrolled": true
   },
   "outputs": [
    {
     "name": "stdout",
     "output_type": "stream",
     "text": [
      "(1, 3, 4, 2, 5, 4, 3)\n",
      "{1, 2, 3, 4, 5}\n",
      "[1, 1, 2, 3, 3, 4, 1, 5]\n",
      "{1, 2, 3, 4, 5}\n"
     ]
    }
   ],
   "source": [
    "s1=(1,3,4,2,5,4,3)\n",
    "print(s1)\n",
    "s=set(s1)\n",
    "print(s)\n",
    "s2=[1, 1, 2, 3, 3, 4, 1, 5]\n",
    "print(s2)\n",
    "s3=set(s2)\n",
    "print(s3)"
   ]
  },
  {
   "cell_type": "code",
   "execution_count": 98,
   "metadata": {},
   "outputs": [
    {
     "data": {
      "text/plain": [
       "{'e', 'h', 'l', 'o'}"
      ]
     },
     "execution_count": 98,
     "metadata": {},
     "output_type": "execute_result"
    }
   ],
   "source": [
    "string=\"hello\"\n",
    "set(string)"
   ]
  },
  {
   "cell_type": "markdown",
   "metadata": {},
   "source": [
    "+ **set operations**\n",
    " - 수학 연산과 동일하다.\n",
    " - 교집합, 합집합, 차집합 등 지원한다."
   ]
  },
  {
   "cell_type": "code",
   "execution_count": 109,
   "metadata": {},
   "outputs": [
    {
     "name": "stdout",
     "output_type": "stream",
     "text": [
      "{1, 2, 3, 4}\n",
      "{3, 4, 5, 6}\n",
      "{3, 4} {3, 4}\n",
      "{1, 2, 3, 4, 5, 6} {1, 2, 3, 4, 5, 6}\n",
      "{1, 2} {1, 2}\n",
      "{1, 2, 5, 6} {1, 2, 5, 6}\n"
     ]
    }
   ],
   "source": [
    "a={1,2,3,4}\n",
    "b={3,4,5,6}\n",
    "print(a)\n",
    "print(b)\n",
    "\n",
    "print(a&b, a.intersection(b))\n",
    "print(a|b, a.union(b))\n",
    "print(a-b,a.difference(b))\n",
    "print(a^b,a.symmetric_difference(b))"
   ]
  },
  {
   "cell_type": "code",
   "execution_count": null,
   "metadata": {},
   "outputs": [],
   "source": []
  },
  {
   "cell_type": "markdown",
   "metadata": {},
   "source": [
    "+ **set 값 추가 제거 하기**"
   ]
  },
  {
   "cell_type": "code",
   "execution_count": 113,
   "metadata": {},
   "outputs": [
    {
     "name": "stdout",
     "output_type": "stream",
     "text": [
      "{1, 2, 3, 4, 5}\n",
      "{1, 2, 3, 4, 5, 6}\n"
     ]
    }
   ],
   "source": [
    "print(a)\n",
    "a.add(6)\n",
    "print(a)"
   ]
  },
  {
   "cell_type": "code",
   "execution_count": 114,
   "metadata": {},
   "outputs": [
    {
     "name": "stdout",
     "output_type": "stream",
     "text": [
      "{1, 2, 3, 4, 5, 6}\n",
      "{1, 2, 3, 4, 5}\n"
     ]
    }
   ],
   "source": [
    "print(a)\n",
    "a.remove(6)\n",
    "print(a)"
   ]
  },
  {
   "cell_type": "code",
   "execution_count": 115,
   "metadata": {},
   "outputs": [
    {
     "name": "stdout",
     "output_type": "stream",
     "text": [
      "{1, 2, 3, 4, 5, 6, 7, 8, 9}\n"
     ]
    }
   ],
   "source": [
    "a.update([1,3,4,6,7,8,9])\n",
    "print(a)"
   ]
  },
  {
   "cell_type": "code",
   "execution_count": null,
   "metadata": {},
   "outputs": [],
   "source": []
  }
 ],
 "metadata": {
  "kernelspec": {
   "display_name": "Python 3",
   "language": "python",
   "name": "python3"
  },
  "language_info": {
   "codemirror_mode": {
    "name": "ipython",
    "version": 3
   },
   "file_extension": ".py",
   "mimetype": "text/x-python",
   "name": "python",
   "nbconvert_exporter": "python",
   "pygments_lexer": "ipython3",
   "version": "3.8.5"
  }
 },
 "nbformat": 4,
 "nbformat_minor": 1
}
