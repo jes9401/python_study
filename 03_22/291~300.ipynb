{
 "cells": [
  {
   "cell_type": "code",
   "execution_count": 1,
   "metadata": {},
   "outputs": [
    {
     "data": {
      "text/plain": [
       "'C:\\\\Users\\\\Admin\\\\apython\\\\03_20'"
      ]
     },
     "execution_count": 1,
     "metadata": {},
     "output_type": "execute_result"
    }
   ],
   "source": [
    "import os\n",
    "os.getcwd()"
   ]
  },
  {
   "cell_type": "markdown",
   "metadata": {},
   "source": [
    "### 291 파일 쓰기"
   ]
  },
  {
   "cell_type": "code",
   "execution_count": 2,
   "metadata": {},
   "outputs": [
    {
     "name": "stdout",
     "output_type": "stream",
     "text": [
      "005930\n",
      "0053380\n",
      "035420\n"
     ]
    }
   ],
   "source": [
    "f=open('매수종목1.txt','w')\n",
    "f.write('005930\\n0053380\\n035420')\n",
    "f.close()\n",
    "\n",
    "!type 매수종목1.txt"
   ]
  },
  {
   "cell_type": "markdown",
   "metadata": {},
   "source": [
    "### 292 파일 쓰기"
   ]
  },
  {
   "cell_type": "code",
   "execution_count": 3,
   "metadata": {},
   "outputs": [
    {
     "name": "stdout",
     "output_type": "stream",
     "text": [
      "005930 삼성전자\n",
      "005380 현대차\n",
      "035420 NAVER\n"
     ]
    }
   ],
   "source": [
    "f=open('매수종목2.txt','w')\n",
    "f.write('005930 삼성전자\\n005380 현대차\\n035420 NAVER')\n",
    "f.close()\n",
    "\n",
    "!type 매수종목2.txt"
   ]
  },
  {
   "cell_type": "markdown",
   "metadata": {},
   "source": [
    "### 293 CSV 파일 쓰기"
   ]
  },
  {
   "cell_type": "code",
   "execution_count": 12,
   "metadata": {},
   "outputs": [],
   "source": [
    "import csv \n",
    "\n",
    "f=open('매수종목.csv',mode=\"wt\", encoding=\"cp949\", newline='')\n",
    "writer = csv.writer(f)\n",
    "\n",
    "writer.writerow([\"종목명\",\"종목코드\",\"PER\"])\n",
    "writer.writerow([\"삼성전자\",\"005930\",\"15.79\"])\n",
    "writer.writerow([\"NAVER\",\"035420\",\"55.82\"])\n",
    "f.close()"
   ]
  },
  {
   "cell_type": "markdown",
   "metadata": {},
   "source": [
    "### 294 파일 읽기"
   ]
  },
  {
   "cell_type": "code",
   "execution_count": 17,
   "metadata": {},
   "outputs": [
    {
     "name": "stdout",
     "output_type": "stream",
     "text": [
      "['005930', '0053380', '035420']\n"
     ]
    }
   ],
   "source": [
    "lst=[]\n",
    "with open('매수종목1.txt','r') as f:\n",
    "    for i in f:\n",
    "        lst.append(i.rstrip())\n",
    "\n",
    "print(lst)"
   ]
  },
  {
   "cell_type": "markdown",
   "metadata": {},
   "source": [
    "### 295 파일 읽기"
   ]
  },
  {
   "cell_type": "code",
   "execution_count": 35,
   "metadata": {},
   "outputs": [
    {
     "name": "stdout",
     "output_type": "stream",
     "text": [
      "{'005930': '삼성전자', '005380': '현대차', '035420': 'NAVER'}\n"
     ]
    }
   ],
   "source": [
    "lst=[]\n",
    "dic={}\n",
    "with open('매수종목2.txt','r') as f:\n",
    "    for i in f:\n",
    "        a=i.split(\" \")[0]\n",
    "        b=i.split(\" \")[1].rstrip()\n",
    "        dic.setdefault(a,b)\n",
    "#         dict.setdefault(i.split(\" \")[0],i.split(\" \")[1].rstrip())\n",
    "print(dic)"
   ]
  },
  {
   "cell_type": "markdown",
   "metadata": {},
   "source": [
    "### 296 예외처리"
   ]
  },
  {
   "cell_type": "code",
   "execution_count": 43,
   "metadata": {},
   "outputs": [
    {
     "name": "stdout",
     "output_type": "stream",
     "text": [
      "10.31\n",
      "0\n",
      "8.0\n"
     ]
    }
   ],
   "source": [
    "per=[\"10.31\",\"\",\"8.00\"]\n",
    "\n",
    "for i in per:\n",
    "    try:\n",
    "        print(float(i))\n",
    "    except:\n",
    "        print(0)"
   ]
  },
  {
   "cell_type": "markdown",
   "metadata": {},
   "source": [
    "### 297 예외처리 및 리스트에 저장"
   ]
  },
  {
   "cell_type": "code",
   "execution_count": 45,
   "metadata": {},
   "outputs": [
    {
     "name": "stdout",
     "output_type": "stream",
     "text": [
      "[10.31, 0, 8.0]\n"
     ]
    }
   ],
   "source": [
    "per=[\"10.31\",\"\",\"8.00\"]\n",
    "lst=[]\n",
    "for i in per:\n",
    "    try:\n",
    "        temp=float(i)\n",
    "    except:\n",
    "        temp=0\n",
    "    lst.append(temp)\n",
    "print(lst)"
   ]
  },
  {
   "cell_type": "markdown",
   "metadata": {},
   "source": [
    "### 298. 특정 예외만 처리하기"
   ]
  },
  {
   "cell_type": "code",
   "execution_count": 46,
   "metadata": {},
   "outputs": [
    {
     "name": "stdout",
     "output_type": "stream",
     "text": [
      "0으로 나눌 수 없습니다.\n"
     ]
    }
   ],
   "source": [
    "def aa(a,b):\n",
    "    try:\n",
    "        result=a/b\n",
    "    except ZeroDivisionError:\n",
    "        print(\"0으로 나눌 수 없습니다.\")\n",
    "        \n",
    "aa(3,0)\n",
    "        "
   ]
  },
  {
   "cell_type": "markdown",
   "metadata": {},
   "source": [
    "### 299 예외 메시지 출력"
   ]
  },
  {
   "cell_type": "code",
   "execution_count": 51,
   "metadata": {
    "scrolled": true
   },
   "outputs": [
    {
     "name": "stdout",
     "output_type": "stream",
     "text": [
      "1\n",
      "2\n",
      "3\n",
      "list index out of range\n",
      "list index out of range\n"
     ]
    }
   ],
   "source": [
    "data=[1,2,3]\n",
    "\n",
    "for i in range(5):\n",
    "    try:\n",
    "        print(data[i])\n",
    "    except IndexError as e:\n",
    "        print(e)"
   ]
  },
  {
   "cell_type": "markdown",
   "metadata": {},
   "source": [
    "### 300 try,except,else,finally 구조 사용"
   ]
  },
  {
   "cell_type": "code",
   "execution_count": 55,
   "metadata": {},
   "outputs": [
    {
     "name": "stdout",
     "output_type": "stream",
     "text": [
      "10.31\n",
      "변환 완료\n",
      "항상 수행\n",
      "0\n",
      "항상 수행\n",
      "8.0\n",
      "변환 완료\n",
      "항상 수행\n"
     ]
    }
   ],
   "source": [
    "per = [\"10.31\", \"\", \"8.00\"]\n",
    "\n",
    "for i in per:\n",
    "    try:\n",
    "        print(float(i))\n",
    "    except:\n",
    "        print(0)\n",
    "    else:\n",
    "        print('변환 완료')\n",
    "    finally:\n",
    "        print('항상 수행')"
   ]
  },
  {
   "cell_type": "code",
   "execution_count": null,
   "metadata": {},
   "outputs": [],
   "source": []
  }
 ],
 "metadata": {
  "kernelspec": {
   "display_name": "Python 3",
   "language": "python",
   "name": "python3"
  },
  "language_info": {
   "codemirror_mode": {
    "name": "ipython",
    "version": 3
   },
   "file_extension": ".py",
   "mimetype": "text/x-python",
   "name": "python",
   "nbconvert_exporter": "python",
   "pygments_lexer": "ipython3",
   "version": "3.8.5"
  }
 },
 "nbformat": 4,
 "nbformat_minor": 4
}
